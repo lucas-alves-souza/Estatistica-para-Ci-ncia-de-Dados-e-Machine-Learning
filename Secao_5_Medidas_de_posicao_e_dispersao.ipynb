{
 "cells": [
  {
   "cell_type": "markdown",
   "metadata": {},
   "source": [
    "https://www.udemy.com/course/estatistica-para-ciencia-de-dados-machine-learning/l"
   ]
  },
  {
   "cell_type": "markdown",
   "metadata": {
    "id": "A2a4Ps-RpmCv"
   },
   "source": [
    "# Medidas de posição e dispersão"
   ]
  },
  {
   "cell_type": "markdown",
   "metadata": {
    "id": "b-sJV-8TppJh"
   },
   "source": [
    "## Base de dados"
   ]
  },
  {
   "cell_type": "code",
   "execution_count": 1,
   "metadata": {
    "id": "jk9u4BJ1Wqpa"
   },
   "outputs": [],
   "source": [
    "import numpy as np\n",
    "import statistics\n",
    "from scipy import stats\n",
    "import math"
   ]
  },
  {
   "cell_type": "code",
   "execution_count": 2,
   "metadata": {
    "id": "-iizD18Hpe8P"
   },
   "outputs": [],
   "source": [
    "dados = np.array([150, 151, 152, 152, 153, 154, 155, 155, 155, 155, 156, 156, 156,\n",
    "                  157, 158, 158, 160, 160, 160, 160, 160, 161, 161, 161, 161, 162,\n",
    "                  163, 163, 164, 164, 164, 165, 166, 167, 168, 168, 169, 170, 172,\n",
    "                  173])"
   ]
  },
  {
   "cell_type": "markdown",
   "metadata": {
    "id": "04mBFjDuptL7"
   },
   "source": [
    "## Média aritmética simples"
   ]
  },
  {
   "cell_type": "code",
   "execution_count": 3,
   "metadata": {
    "colab": {
     "base_uri": "https://localhost:8080/",
     "height": 55
    },
    "id": "C-39PNeqXMhx",
    "outputId": "1b64718c-f319-45e0-fbf6-b567c24f1f90"
   },
   "outputs": [
    {
     "data": {
      "text/plain": [
       "160.375"
      ]
     },
     "execution_count": 3,
     "metadata": {},
     "output_type": "execute_result"
    }
   ],
   "source": [
    "dados.sum() / len(dados)"
   ]
  },
  {
   "cell_type": "code",
   "execution_count": 4,
   "metadata": {
    "colab": {
     "base_uri": "https://localhost:8080/",
     "height": 55
    },
    "id": "IJnw7O4FXYnC",
    "outputId": "fe0071b0-9ca9-4a6f-f0e3-d579e50184ff"
   },
   "outputs": [
    {
     "data": {
      "text/plain": [
       "160.375"
      ]
     },
     "execution_count": 4,
     "metadata": {},
     "output_type": "execute_result"
    }
   ],
   "source": [
    "dados.mean()"
   ]
  },
  {
   "cell_type": "code",
   "execution_count": 5,
   "metadata": {
    "colab": {
     "base_uri": "https://localhost:8080/",
     "height": 55
    },
    "id": "0ertqHN1Xc2H",
    "outputId": "8f52b1f8-3ded-44d7-931e-ce761c3f1af6"
   },
   "outputs": [
    {
     "data": {
      "text/plain": [
       "160"
      ]
     },
     "execution_count": 5,
     "metadata": {},
     "output_type": "execute_result"
    }
   ],
   "source": [
    "statistics.mean(dados)"
   ]
  },
  {
   "cell_type": "markdown",
   "metadata": {
    "id": "hkq_zae75joP"
   },
   "source": [
    "## Moda"
   ]
  },
  {
   "cell_type": "code",
   "execution_count": 6,
   "metadata": {
    "colab": {
     "base_uri": "https://localhost:8080/",
     "height": 55
    },
    "id": "iCdM7KSjX1DD",
    "outputId": "218ed5ed-b895-47c7-8f3a-113cdf3d22b0"
   },
   "outputs": [
    {
     "data": {
      "text/plain": [
       "160"
      ]
     },
     "execution_count": 6,
     "metadata": {},
     "output_type": "execute_result"
    }
   ],
   "source": [
    "statistics.mode(dados)"
   ]
  },
  {
   "cell_type": "code",
   "execution_count": 7,
   "metadata": {
    "colab": {
     "base_uri": "https://localhost:8080/",
     "height": 55
    },
    "id": "xEs8kq2GX7k_",
    "outputId": "84209288-09f1-4524-fa93-4c4823b4ebd9"
   },
   "outputs": [
    {
     "data": {
      "text/plain": [
       "ModeResult(mode=array([160]), count=array([5]))"
      ]
     },
     "execution_count": 7,
     "metadata": {},
     "output_type": "execute_result"
    }
   ],
   "source": [
    "stats.mode(dados)"
   ]
  },
  {
   "cell_type": "markdown",
   "metadata": {
    "id": "BNb_PbIM5kk-"
   },
   "source": [
    "## Mediana"
   ]
  },
  {
   "cell_type": "code",
   "execution_count": 8,
   "metadata": {
    "id": "WYauSw6b8HQs"
   },
   "outputs": [],
   "source": [
    "dados_impar = [150, 151, 152, 152, 153, 154, 155, 155, 155]"
   ]
  },
  {
   "cell_type": "markdown",
   "metadata": {
    "id": "yPHpvq0W-ABs"
   },
   "source": [
    "### Cálculo manual (ímpar)"
   ]
  },
  {
   "cell_type": "code",
   "execution_count": 9,
   "metadata": {
    "colab": {
     "base_uri": "https://localhost:8080/",
     "height": 55
    },
    "id": "WugwDKtCYS0Y",
    "outputId": "0943eb53-2b4b-40d1-f83a-c170a5462a40"
   },
   "outputs": [
    {
     "data": {
      "text/plain": [
       "4.5"
      ]
     },
     "execution_count": 9,
     "metadata": {},
     "output_type": "execute_result"
    }
   ],
   "source": [
    "posicao = len(dados_impar) / 2\n",
    "posicao"
   ]
  },
  {
   "cell_type": "code",
   "execution_count": 10,
   "metadata": {
    "colab": {
     "base_uri": "https://localhost:8080/",
     "height": 55
    },
    "id": "EXZTOH_EYhtM",
    "outputId": "45e194d3-cf49-418e-c9b2-844c735633b4"
   },
   "outputs": [
    {
     "data": {
      "text/plain": [
       "5"
      ]
     },
     "execution_count": 10,
     "metadata": {},
     "output_type": "execute_result"
    }
   ],
   "source": [
    "posicao = math.ceil(posicao)\n",
    "posicao"
   ]
  },
  {
   "cell_type": "code",
   "execution_count": 11,
   "metadata": {
    "colab": {
     "base_uri": "https://localhost:8080/",
     "height": 55
    },
    "id": "938Gx7-vYm1s",
    "outputId": "cc1102a8-6009-4bce-8b1a-4d8f31a8292a"
   },
   "outputs": [
    {
     "data": {
      "text/plain": [
       "153"
      ]
     },
     "execution_count": 11,
     "metadata": {},
     "output_type": "execute_result"
    }
   ],
   "source": [
    "dados_impar[posicao - 1]"
   ]
  },
  {
   "cell_type": "markdown",
   "metadata": {
    "id": "Y5WBJckZ-jlW"
   },
   "source": [
    "### Cálculo manual (par)"
   ]
  },
  {
   "cell_type": "code",
   "execution_count": 12,
   "metadata": {
    "colab": {
     "base_uri": "https://localhost:8080/",
     "height": 55
    },
    "id": "sSN8Nf0fY4Zy",
    "outputId": "40b70fad-26fd-4507-fa43-8e177f459d22"
   },
   "outputs": [
    {
     "data": {
      "text/plain": [
       "20"
      ]
     },
     "execution_count": 12,
     "metadata": {},
     "output_type": "execute_result"
    }
   ],
   "source": [
    "posicao = len(dados) // 2\n",
    "posicao"
   ]
  },
  {
   "cell_type": "code",
   "execution_count": 13,
   "metadata": {
    "colab": {
     "base_uri": "https://localhost:8080/",
     "height": 55
    },
    "id": "wnGc44QuY8zP",
    "outputId": "db1a2c53-126a-4cb2-ce29-3b854e2c51c5"
   },
   "outputs": [
    {
     "data": {
      "text/plain": [
       "(160, 160)"
      ]
     },
     "execution_count": 13,
     "metadata": {},
     "output_type": "execute_result"
    }
   ],
   "source": [
    "dados[posicao - 1], dados[posicao]"
   ]
  },
  {
   "cell_type": "code",
   "execution_count": 14,
   "metadata": {
    "colab": {
     "base_uri": "https://localhost:8080/",
     "height": 55
    },
    "id": "e1jeHsuRZKqh",
    "outputId": "f896880a-b101-4beb-e410-781f16b02306"
   },
   "outputs": [
    {
     "data": {
      "text/plain": [
       "160.0"
      ]
     },
     "execution_count": 14,
     "metadata": {},
     "output_type": "execute_result"
    }
   ],
   "source": [
    "mediana = (dados[posicao - 1] + dados[posicao]) / 2\n",
    "mediana"
   ]
  },
  {
   "cell_type": "markdown",
   "metadata": {
    "id": "K0JHhy5p_Lc4"
   },
   "source": [
    "### Bibliotecas"
   ]
  },
  {
   "cell_type": "code",
   "execution_count": 15,
   "metadata": {
    "colab": {
     "base_uri": "https://localhost:8080/",
     "height": 55
    },
    "id": "jHHIhQCaZXjA",
    "outputId": "ce677b1c-df8c-4617-8069-eb933e264103"
   },
   "outputs": [
    {
     "data": {
      "text/plain": [
       "153.0"
      ]
     },
     "execution_count": 15,
     "metadata": {},
     "output_type": "execute_result"
    }
   ],
   "source": [
    "np.median(dados_impar)"
   ]
  },
  {
   "cell_type": "code",
   "execution_count": 16,
   "metadata": {
    "colab": {
     "base_uri": "https://localhost:8080/",
     "height": 55
    },
    "id": "9ds6VVYVZdDX",
    "outputId": "d24df4eb-2887-4c62-ac5d-112cb2e525d9"
   },
   "outputs": [
    {
     "data": {
      "text/plain": [
       "160.0"
      ]
     },
     "execution_count": 16,
     "metadata": {},
     "output_type": "execute_result"
    }
   ],
   "source": [
    "np.median(dados)"
   ]
  },
  {
   "cell_type": "code",
   "execution_count": 17,
   "metadata": {
    "colab": {
     "base_uri": "https://localhost:8080/",
     "height": 55
    },
    "id": "dhV9QtgTZhDS",
    "outputId": "a44da362-b6b1-476f-b116-4a8d65447f4a"
   },
   "outputs": [
    {
     "data": {
      "text/plain": [
       "153"
      ]
     },
     "execution_count": 17,
     "metadata": {},
     "output_type": "execute_result"
    }
   ],
   "source": [
    "statistics.median(dados_impar)"
   ]
  },
  {
   "cell_type": "code",
   "execution_count": 18,
   "metadata": {
    "colab": {
     "base_uri": "https://localhost:8080/",
     "height": 55
    },
    "id": "mwvGW0Z-Zl2p",
    "outputId": "107aff69-8475-4a66-c133-b7568f88f493"
   },
   "outputs": [
    {
     "data": {
      "text/plain": [
       "160.0"
      ]
     },
     "execution_count": 18,
     "metadata": {},
     "output_type": "execute_result"
    }
   ],
   "source": [
    "statistics.median(dados)"
   ]
  },
  {
   "cell_type": "markdown",
   "metadata": {
    "id": "sHVY0OeLEhk5"
   },
   "source": [
    "## Média aritmética ponderada"
   ]
  },
  {
   "cell_type": "code",
   "execution_count": 19,
   "metadata": {
    "id": "KdRONYgwbdSy"
   },
   "outputs": [],
   "source": [
    "notas = np.array([9, 8, 7, 3])\n",
    "pesos = np.array([1, 2, 3, 4])"
   ]
  },
  {
   "cell_type": "code",
   "execution_count": 20,
   "metadata": {
    "colab": {
     "base_uri": "https://localhost:8080/",
     "height": 55
    },
    "id": "uVZvT4PQbm_F",
    "outputId": "eb90e95d-d4e5-4411-f625-9dde3e707be0"
   },
   "outputs": [
    {
     "data": {
      "text/plain": [
       "5.8"
      ]
     },
     "execution_count": 20,
     "metadata": {},
     "output_type": "execute_result"
    }
   ],
   "source": [
    "(9 * 1 + 8 * 2 + 7 * 3 + 3 * 4) / (1 + 2 + 3 + 4)"
   ]
  },
  {
   "cell_type": "code",
   "execution_count": 21,
   "metadata": {
    "colab": {
     "base_uri": "https://localhost:8080/",
     "height": 55
    },
    "id": "t0PCioI9b0J7",
    "outputId": "56ce3446-c697-4a74-a418-fe36604dc444"
   },
   "outputs": [
    {
     "data": {
      "text/plain": [
       "5.8"
      ]
     },
     "execution_count": 21,
     "metadata": {},
     "output_type": "execute_result"
    }
   ],
   "source": [
    "media_ponderada = (notas * pesos).sum() / pesos.sum()\n",
    "media_ponderada"
   ]
  },
  {
   "cell_type": "code",
   "execution_count": 22,
   "metadata": {
    "colab": {
     "base_uri": "https://localhost:8080/",
     "height": 55
    },
    "id": "gimBCIWFcEcy",
    "outputId": "129d0e42-94af-4fbd-895d-a729e6a1116d"
   },
   "outputs": [
    {
     "data": {
      "text/plain": [
       "5.8"
      ]
     },
     "execution_count": 22,
     "metadata": {},
     "output_type": "execute_result"
    }
   ],
   "source": [
    "np.average(notas, weights=pesos)"
   ]
  },
  {
   "cell_type": "markdown",
   "metadata": {
    "id": "7EZ602jEqI8o"
   },
   "source": [
    "## Média aritmética, moda e mediana com distribuição de frequência (dados agrupados)"
   ]
  },
  {
   "cell_type": "code",
   "execution_count": 23,
   "metadata": {
    "id": "u6NbLnwdqQSw"
   },
   "outputs": [],
   "source": [
    "dados = {'inferior': [150, 154, 158, 162, 166, 170],\n",
    "         'superior': [154, 158, 162, 166, 170, 174],\n",
    "         'fi': [5, 9, 11, 7, 5, 3]}"
   ]
  },
  {
   "cell_type": "code",
   "execution_count": 24,
   "metadata": {
    "colab": {
     "base_uri": "https://localhost:8080/",
     "height": 260
    },
    "id": "k28o28rEq_iU",
    "outputId": "cbe2c5fe-b2d6-4805-d203-4d767bd76794"
   },
   "outputs": [
    {
     "data": {
      "text/html": [
       "<div>\n",
       "<style scoped>\n",
       "    .dataframe tbody tr th:only-of-type {\n",
       "        vertical-align: middle;\n",
       "    }\n",
       "\n",
       "    .dataframe tbody tr th {\n",
       "        vertical-align: top;\n",
       "    }\n",
       "\n",
       "    .dataframe thead th {\n",
       "        text-align: right;\n",
       "    }\n",
       "</style>\n",
       "<table border=\"1\" class=\"dataframe\">\n",
       "  <thead>\n",
       "    <tr style=\"text-align: right;\">\n",
       "      <th></th>\n",
       "      <th>inferior</th>\n",
       "      <th>superior</th>\n",
       "      <th>fi</th>\n",
       "    </tr>\n",
       "  </thead>\n",
       "  <tbody>\n",
       "    <tr>\n",
       "      <th>0</th>\n",
       "      <td>150</td>\n",
       "      <td>154</td>\n",
       "      <td>5</td>\n",
       "    </tr>\n",
       "    <tr>\n",
       "      <th>1</th>\n",
       "      <td>154</td>\n",
       "      <td>158</td>\n",
       "      <td>9</td>\n",
       "    </tr>\n",
       "    <tr>\n",
       "      <th>2</th>\n",
       "      <td>158</td>\n",
       "      <td>162</td>\n",
       "      <td>11</td>\n",
       "    </tr>\n",
       "    <tr>\n",
       "      <th>3</th>\n",
       "      <td>162</td>\n",
       "      <td>166</td>\n",
       "      <td>7</td>\n",
       "    </tr>\n",
       "    <tr>\n",
       "      <th>4</th>\n",
       "      <td>166</td>\n",
       "      <td>170</td>\n",
       "      <td>5</td>\n",
       "    </tr>\n",
       "    <tr>\n",
       "      <th>5</th>\n",
       "      <td>170</td>\n",
       "      <td>174</td>\n",
       "      <td>3</td>\n",
       "    </tr>\n",
       "  </tbody>\n",
       "</table>\n",
       "</div>"
      ],
      "text/plain": [
       "   inferior  superior  fi\n",
       "0       150       154   5\n",
       "1       154       158   9\n",
       "2       158       162  11\n",
       "3       162       166   7\n",
       "4       166       170   5\n",
       "5       170       174   3"
      ]
     },
     "execution_count": 24,
     "metadata": {},
     "output_type": "execute_result"
    }
   ],
   "source": [
    "import pandas as pd\n",
    "dataset = pd.DataFrame(dados)\n",
    "dataset"
   ]
  },
  {
   "cell_type": "code",
   "execution_count": 25,
   "metadata": {
    "colab": {
     "base_uri": "https://localhost:8080/",
     "height": 260
    },
    "id": "DGKVKzR-rHLS",
    "outputId": "78f35468-6723-4412-b33c-fa9c60ae43b1"
   },
   "outputs": [
    {
     "data": {
      "text/html": [
       "<div>\n",
       "<style scoped>\n",
       "    .dataframe tbody tr th:only-of-type {\n",
       "        vertical-align: middle;\n",
       "    }\n",
       "\n",
       "    .dataframe tbody tr th {\n",
       "        vertical-align: top;\n",
       "    }\n",
       "\n",
       "    .dataframe thead th {\n",
       "        text-align: right;\n",
       "    }\n",
       "</style>\n",
       "<table border=\"1\" class=\"dataframe\">\n",
       "  <thead>\n",
       "    <tr style=\"text-align: right;\">\n",
       "      <th></th>\n",
       "      <th>inferior</th>\n",
       "      <th>superior</th>\n",
       "      <th>fi</th>\n",
       "      <th>xi</th>\n",
       "    </tr>\n",
       "  </thead>\n",
       "  <tbody>\n",
       "    <tr>\n",
       "      <th>0</th>\n",
       "      <td>150</td>\n",
       "      <td>154</td>\n",
       "      <td>5</td>\n",
       "      <td>152.0</td>\n",
       "    </tr>\n",
       "    <tr>\n",
       "      <th>1</th>\n",
       "      <td>154</td>\n",
       "      <td>158</td>\n",
       "      <td>9</td>\n",
       "      <td>156.0</td>\n",
       "    </tr>\n",
       "    <tr>\n",
       "      <th>2</th>\n",
       "      <td>158</td>\n",
       "      <td>162</td>\n",
       "      <td>11</td>\n",
       "      <td>160.0</td>\n",
       "    </tr>\n",
       "    <tr>\n",
       "      <th>3</th>\n",
       "      <td>162</td>\n",
       "      <td>166</td>\n",
       "      <td>7</td>\n",
       "      <td>164.0</td>\n",
       "    </tr>\n",
       "    <tr>\n",
       "      <th>4</th>\n",
       "      <td>166</td>\n",
       "      <td>170</td>\n",
       "      <td>5</td>\n",
       "      <td>168.0</td>\n",
       "    </tr>\n",
       "    <tr>\n",
       "      <th>5</th>\n",
       "      <td>170</td>\n",
       "      <td>174</td>\n",
       "      <td>3</td>\n",
       "      <td>172.0</td>\n",
       "    </tr>\n",
       "  </tbody>\n",
       "</table>\n",
       "</div>"
      ],
      "text/plain": [
       "   inferior  superior  fi     xi\n",
       "0       150       154   5  152.0\n",
       "1       154       158   9  156.0\n",
       "2       158       162  11  160.0\n",
       "3       162       166   7  164.0\n",
       "4       166       170   5  168.0\n",
       "5       170       174   3  172.0"
      ]
     },
     "execution_count": 25,
     "metadata": {},
     "output_type": "execute_result"
    }
   ],
   "source": [
    "dataset['xi'] = (dataset['superior'] + dataset['inferior']) / 2\n",
    "dataset"
   ]
  },
  {
   "cell_type": "code",
   "execution_count": 26,
   "metadata": {
    "colab": {
     "base_uri": "https://localhost:8080/",
     "height": 260
    },
    "id": "zq7Ok3L3rXGh",
    "outputId": "9e843e64-0a0d-47e7-858d-8e41d1f61e4c"
   },
   "outputs": [
    {
     "data": {
      "text/html": [
       "<div>\n",
       "<style scoped>\n",
       "    .dataframe tbody tr th:only-of-type {\n",
       "        vertical-align: middle;\n",
       "    }\n",
       "\n",
       "    .dataframe tbody tr th {\n",
       "        vertical-align: top;\n",
       "    }\n",
       "\n",
       "    .dataframe thead th {\n",
       "        text-align: right;\n",
       "    }\n",
       "</style>\n",
       "<table border=\"1\" class=\"dataframe\">\n",
       "  <thead>\n",
       "    <tr style=\"text-align: right;\">\n",
       "      <th></th>\n",
       "      <th>inferior</th>\n",
       "      <th>superior</th>\n",
       "      <th>fi</th>\n",
       "      <th>xi</th>\n",
       "      <th>fi.xi</th>\n",
       "    </tr>\n",
       "  </thead>\n",
       "  <tbody>\n",
       "    <tr>\n",
       "      <th>0</th>\n",
       "      <td>150</td>\n",
       "      <td>154</td>\n",
       "      <td>5</td>\n",
       "      <td>152.0</td>\n",
       "      <td>760.0</td>\n",
       "    </tr>\n",
       "    <tr>\n",
       "      <th>1</th>\n",
       "      <td>154</td>\n",
       "      <td>158</td>\n",
       "      <td>9</td>\n",
       "      <td>156.0</td>\n",
       "      <td>1404.0</td>\n",
       "    </tr>\n",
       "    <tr>\n",
       "      <th>2</th>\n",
       "      <td>158</td>\n",
       "      <td>162</td>\n",
       "      <td>11</td>\n",
       "      <td>160.0</td>\n",
       "      <td>1760.0</td>\n",
       "    </tr>\n",
       "    <tr>\n",
       "      <th>3</th>\n",
       "      <td>162</td>\n",
       "      <td>166</td>\n",
       "      <td>7</td>\n",
       "      <td>164.0</td>\n",
       "      <td>1148.0</td>\n",
       "    </tr>\n",
       "    <tr>\n",
       "      <th>4</th>\n",
       "      <td>166</td>\n",
       "      <td>170</td>\n",
       "      <td>5</td>\n",
       "      <td>168.0</td>\n",
       "      <td>840.0</td>\n",
       "    </tr>\n",
       "    <tr>\n",
       "      <th>5</th>\n",
       "      <td>170</td>\n",
       "      <td>174</td>\n",
       "      <td>3</td>\n",
       "      <td>172.0</td>\n",
       "      <td>516.0</td>\n",
       "    </tr>\n",
       "  </tbody>\n",
       "</table>\n",
       "</div>"
      ],
      "text/plain": [
       "   inferior  superior  fi     xi   fi.xi\n",
       "0       150       154   5  152.0   760.0\n",
       "1       154       158   9  156.0  1404.0\n",
       "2       158       162  11  160.0  1760.0\n",
       "3       162       166   7  164.0  1148.0\n",
       "4       166       170   5  168.0   840.0\n",
       "5       170       174   3  172.0   516.0"
      ]
     },
     "execution_count": 26,
     "metadata": {},
     "output_type": "execute_result"
    }
   ],
   "source": [
    "dataset['fi.xi'] = dataset['fi'] * dataset['xi']\n",
    "dataset"
   ]
  },
  {
   "cell_type": "code",
   "execution_count": 27,
   "metadata": {
    "colab": {
     "base_uri": "https://localhost:8080/",
     "height": 260
    },
    "id": "kSY1e8Zsrl1z",
    "outputId": "2bb8959b-3168-495b-ba6e-113312bf16c5"
   },
   "outputs": [
    {
     "data": {
      "text/html": [
       "<div>\n",
       "<style scoped>\n",
       "    .dataframe tbody tr th:only-of-type {\n",
       "        vertical-align: middle;\n",
       "    }\n",
       "\n",
       "    .dataframe tbody tr th {\n",
       "        vertical-align: top;\n",
       "    }\n",
       "\n",
       "    .dataframe thead th {\n",
       "        text-align: right;\n",
       "    }\n",
       "</style>\n",
       "<table border=\"1\" class=\"dataframe\">\n",
       "  <thead>\n",
       "    <tr style=\"text-align: right;\">\n",
       "      <th></th>\n",
       "      <th>inferior</th>\n",
       "      <th>superior</th>\n",
       "      <th>fi</th>\n",
       "      <th>xi</th>\n",
       "      <th>fi.xi</th>\n",
       "      <th>Fi</th>\n",
       "    </tr>\n",
       "  </thead>\n",
       "  <tbody>\n",
       "    <tr>\n",
       "      <th>0</th>\n",
       "      <td>150</td>\n",
       "      <td>154</td>\n",
       "      <td>5</td>\n",
       "      <td>152.0</td>\n",
       "      <td>760.0</td>\n",
       "      <td>0</td>\n",
       "    </tr>\n",
       "    <tr>\n",
       "      <th>1</th>\n",
       "      <td>154</td>\n",
       "      <td>158</td>\n",
       "      <td>9</td>\n",
       "      <td>156.0</td>\n",
       "      <td>1404.0</td>\n",
       "      <td>0</td>\n",
       "    </tr>\n",
       "    <tr>\n",
       "      <th>2</th>\n",
       "      <td>158</td>\n",
       "      <td>162</td>\n",
       "      <td>11</td>\n",
       "      <td>160.0</td>\n",
       "      <td>1760.0</td>\n",
       "      <td>0</td>\n",
       "    </tr>\n",
       "    <tr>\n",
       "      <th>3</th>\n",
       "      <td>162</td>\n",
       "      <td>166</td>\n",
       "      <td>7</td>\n",
       "      <td>164.0</td>\n",
       "      <td>1148.0</td>\n",
       "      <td>0</td>\n",
       "    </tr>\n",
       "    <tr>\n",
       "      <th>4</th>\n",
       "      <td>166</td>\n",
       "      <td>170</td>\n",
       "      <td>5</td>\n",
       "      <td>168.0</td>\n",
       "      <td>840.0</td>\n",
       "      <td>0</td>\n",
       "    </tr>\n",
       "    <tr>\n",
       "      <th>5</th>\n",
       "      <td>170</td>\n",
       "      <td>174</td>\n",
       "      <td>3</td>\n",
       "      <td>172.0</td>\n",
       "      <td>516.0</td>\n",
       "      <td>0</td>\n",
       "    </tr>\n",
       "  </tbody>\n",
       "</table>\n",
       "</div>"
      ],
      "text/plain": [
       "   inferior  superior  fi     xi   fi.xi  Fi\n",
       "0       150       154   5  152.0   760.0   0\n",
       "1       154       158   9  156.0  1404.0   0\n",
       "2       158       162  11  160.0  1760.0   0\n",
       "3       162       166   7  164.0  1148.0   0\n",
       "4       166       170   5  168.0   840.0   0\n",
       "5       170       174   3  172.0   516.0   0"
      ]
     },
     "execution_count": 27,
     "metadata": {},
     "output_type": "execute_result"
    }
   ],
   "source": [
    "dataset['Fi'] = 0\n",
    "dataset"
   ]
  },
  {
   "cell_type": "code",
   "execution_count": 28,
   "metadata": {
    "id": "iH2a4ZwSr3PA"
   },
   "outputs": [],
   "source": [
    "frequencia_acumulada = []\n",
    "somatorio = 0\n",
    "for linha in dataset.iterrows():\n",
    "  #print(linha[1])\n",
    "  #print(linha[1][2])\n",
    "  somatorio += linha[1][2]\n",
    "  frequencia_acumulada.append(somatorio)"
   ]
  },
  {
   "cell_type": "code",
   "execution_count": 29,
   "metadata": {
    "colab": {
     "base_uri": "https://localhost:8080/",
     "height": 55
    },
    "id": "Q_JqxfeNsowd",
    "outputId": "a10a63a2-db32-473b-8184-55602e48b564"
   },
   "outputs": [
    {
     "data": {
      "text/plain": [
       "[5.0, 14.0, 25.0, 32.0, 37.0, 40.0]"
      ]
     },
     "execution_count": 29,
     "metadata": {},
     "output_type": "execute_result"
    }
   ],
   "source": [
    "frequencia_acumulada"
   ]
  },
  {
   "cell_type": "code",
   "execution_count": 30,
   "metadata": {
    "colab": {
     "base_uri": "https://localhost:8080/",
     "height": 260
    },
    "id": "U1uHNbFasu3A",
    "outputId": "15bf7813-1742-43b0-f0b0-ea71ac59e749"
   },
   "outputs": [
    {
     "data": {
      "text/html": [
       "<div>\n",
       "<style scoped>\n",
       "    .dataframe tbody tr th:only-of-type {\n",
       "        vertical-align: middle;\n",
       "    }\n",
       "\n",
       "    .dataframe tbody tr th {\n",
       "        vertical-align: top;\n",
       "    }\n",
       "\n",
       "    .dataframe thead th {\n",
       "        text-align: right;\n",
       "    }\n",
       "</style>\n",
       "<table border=\"1\" class=\"dataframe\">\n",
       "  <thead>\n",
       "    <tr style=\"text-align: right;\">\n",
       "      <th></th>\n",
       "      <th>inferior</th>\n",
       "      <th>superior</th>\n",
       "      <th>fi</th>\n",
       "      <th>xi</th>\n",
       "      <th>fi.xi</th>\n",
       "      <th>Fi</th>\n",
       "    </tr>\n",
       "  </thead>\n",
       "  <tbody>\n",
       "    <tr>\n",
       "      <th>0</th>\n",
       "      <td>150</td>\n",
       "      <td>154</td>\n",
       "      <td>5</td>\n",
       "      <td>152.0</td>\n",
       "      <td>760.0</td>\n",
       "      <td>5.0</td>\n",
       "    </tr>\n",
       "    <tr>\n",
       "      <th>1</th>\n",
       "      <td>154</td>\n",
       "      <td>158</td>\n",
       "      <td>9</td>\n",
       "      <td>156.0</td>\n",
       "      <td>1404.0</td>\n",
       "      <td>14.0</td>\n",
       "    </tr>\n",
       "    <tr>\n",
       "      <th>2</th>\n",
       "      <td>158</td>\n",
       "      <td>162</td>\n",
       "      <td>11</td>\n",
       "      <td>160.0</td>\n",
       "      <td>1760.0</td>\n",
       "      <td>25.0</td>\n",
       "    </tr>\n",
       "    <tr>\n",
       "      <th>3</th>\n",
       "      <td>162</td>\n",
       "      <td>166</td>\n",
       "      <td>7</td>\n",
       "      <td>164.0</td>\n",
       "      <td>1148.0</td>\n",
       "      <td>32.0</td>\n",
       "    </tr>\n",
       "    <tr>\n",
       "      <th>4</th>\n",
       "      <td>166</td>\n",
       "      <td>170</td>\n",
       "      <td>5</td>\n",
       "      <td>168.0</td>\n",
       "      <td>840.0</td>\n",
       "      <td>37.0</td>\n",
       "    </tr>\n",
       "    <tr>\n",
       "      <th>5</th>\n",
       "      <td>170</td>\n",
       "      <td>174</td>\n",
       "      <td>3</td>\n",
       "      <td>172.0</td>\n",
       "      <td>516.0</td>\n",
       "      <td>40.0</td>\n",
       "    </tr>\n",
       "  </tbody>\n",
       "</table>\n",
       "</div>"
      ],
      "text/plain": [
       "   inferior  superior  fi     xi   fi.xi    Fi\n",
       "0       150       154   5  152.0   760.0   5.0\n",
       "1       154       158   9  156.0  1404.0  14.0\n",
       "2       158       162  11  160.0  1760.0  25.0\n",
       "3       162       166   7  164.0  1148.0  32.0\n",
       "4       166       170   5  168.0   840.0  37.0\n",
       "5       170       174   3  172.0   516.0  40.0"
      ]
     },
     "execution_count": 30,
     "metadata": {},
     "output_type": "execute_result"
    }
   ],
   "source": [
    "dataset['Fi'] = frequencia_acumulada\n",
    "dataset"
   ]
  },
  {
   "cell_type": "markdown",
   "metadata": {
    "id": "tdRnWXaKs5VH"
   },
   "source": [
    "### Média"
   ]
  },
  {
   "cell_type": "code",
   "execution_count": 31,
   "metadata": {
    "colab": {
     "base_uri": "https://localhost:8080/",
     "height": 55
    },
    "id": "V1FXRYTStA5V",
    "outputId": "a6f8b0b0-a4e0-41bb-da6d-9a982bddabe9"
   },
   "outputs": [
    {
     "data": {
      "text/plain": [
       "(40, 6428.0)"
      ]
     },
     "execution_count": 31,
     "metadata": {},
     "output_type": "execute_result"
    }
   ],
   "source": [
    "dataset['fi'].sum(), dataset['fi.xi'].sum()"
   ]
  },
  {
   "cell_type": "code",
   "execution_count": 32,
   "metadata": {
    "colab": {
     "base_uri": "https://localhost:8080/",
     "height": 55
    },
    "id": "W47Mr5cPtPGr",
    "outputId": "74524f55-25b1-41f8-d4e4-0ec714557188"
   },
   "outputs": [
    {
     "data": {
      "text/plain": [
       "160.7"
      ]
     },
     "execution_count": 32,
     "metadata": {},
     "output_type": "execute_result"
    }
   ],
   "source": [
    "dataset['fi.xi'].sum() / dataset['fi'].sum()"
   ]
  },
  {
   "cell_type": "markdown",
   "metadata": {
    "id": "Qbel3_ais65D"
   },
   "source": [
    "### Moda"
   ]
  },
  {
   "cell_type": "code",
   "execution_count": 33,
   "metadata": {
    "colab": {
     "base_uri": "https://localhost:8080/",
     "height": 55
    },
    "id": "hEVZdbrytUgH",
    "outputId": "9af075ef-acce-4cc7-8d23-3958fe7ea259"
   },
   "outputs": [
    {
     "data": {
      "text/plain": [
       "11"
      ]
     },
     "execution_count": 33,
     "metadata": {},
     "output_type": "execute_result"
    }
   ],
   "source": [
    "dataset['fi'].max()"
   ]
  },
  {
   "cell_type": "code",
   "execution_count": 34,
   "metadata": {
    "colab": {
     "base_uri": "https://localhost:8080/",
     "height": 101
    },
    "id": "Yz3s-hsdtf2U",
    "outputId": "d643694e-4c88-483e-aff6-beb98616ef3c"
   },
   "outputs": [
    {
     "data": {
      "text/html": [
       "<div>\n",
       "<style scoped>\n",
       "    .dataframe tbody tr th:only-of-type {\n",
       "        vertical-align: middle;\n",
       "    }\n",
       "\n",
       "    .dataframe tbody tr th {\n",
       "        vertical-align: top;\n",
       "    }\n",
       "\n",
       "    .dataframe thead th {\n",
       "        text-align: right;\n",
       "    }\n",
       "</style>\n",
       "<table border=\"1\" class=\"dataframe\">\n",
       "  <thead>\n",
       "    <tr style=\"text-align: right;\">\n",
       "      <th></th>\n",
       "      <th>inferior</th>\n",
       "      <th>superior</th>\n",
       "      <th>fi</th>\n",
       "      <th>xi</th>\n",
       "      <th>fi.xi</th>\n",
       "      <th>Fi</th>\n",
       "    </tr>\n",
       "  </thead>\n",
       "  <tbody>\n",
       "    <tr>\n",
       "      <th>2</th>\n",
       "      <td>158</td>\n",
       "      <td>162</td>\n",
       "      <td>11</td>\n",
       "      <td>160.0</td>\n",
       "      <td>1760.0</td>\n",
       "      <td>25.0</td>\n",
       "    </tr>\n",
       "  </tbody>\n",
       "</table>\n",
       "</div>"
      ],
      "text/plain": [
       "   inferior  superior  fi     xi   fi.xi    Fi\n",
       "2       158       162  11  160.0  1760.0  25.0"
      ]
     },
     "execution_count": 34,
     "metadata": {},
     "output_type": "execute_result"
    }
   ],
   "source": [
    "dataset[dataset['fi'] == dataset['fi'].max()]"
   ]
  },
  {
   "cell_type": "code",
   "execution_count": 35,
   "metadata": {
    "colab": {
     "base_uri": "https://localhost:8080/",
     "height": 55
    },
    "id": "dIvxTcg_tuNc",
    "outputId": "81f4e870-3824-454e-cb74-fb278de37b82"
   },
   "outputs": [
    {
     "data": {
      "text/plain": [
       "160.0"
      ]
     },
     "execution_count": 35,
     "metadata": {},
     "output_type": "execute_result"
    }
   ],
   "source": [
    "dataset[dataset['fi'] == dataset['fi'].max()]['xi'].values[0]"
   ]
  },
  {
   "cell_type": "markdown",
   "metadata": {
    "id": "VVh_EdZVs8A4"
   },
   "source": [
    "### Mediana"
   ]
  },
  {
   "cell_type": "code",
   "execution_count": 36,
   "metadata": {
    "colab": {
     "base_uri": "https://localhost:8080/",
     "height": 260
    },
    "id": "7XAc0k9ft9st",
    "outputId": "fa3bdf83-2bc8-4ec4-b88e-e621bd22ee86"
   },
   "outputs": [
    {
     "data": {
      "text/html": [
       "<div>\n",
       "<style scoped>\n",
       "    .dataframe tbody tr th:only-of-type {\n",
       "        vertical-align: middle;\n",
       "    }\n",
       "\n",
       "    .dataframe tbody tr th {\n",
       "        vertical-align: top;\n",
       "    }\n",
       "\n",
       "    .dataframe thead th {\n",
       "        text-align: right;\n",
       "    }\n",
       "</style>\n",
       "<table border=\"1\" class=\"dataframe\">\n",
       "  <thead>\n",
       "    <tr style=\"text-align: right;\">\n",
       "      <th></th>\n",
       "      <th>inferior</th>\n",
       "      <th>superior</th>\n",
       "      <th>fi</th>\n",
       "      <th>xi</th>\n",
       "      <th>fi.xi</th>\n",
       "      <th>Fi</th>\n",
       "    </tr>\n",
       "  </thead>\n",
       "  <tbody>\n",
       "    <tr>\n",
       "      <th>0</th>\n",
       "      <td>150</td>\n",
       "      <td>154</td>\n",
       "      <td>5</td>\n",
       "      <td>152.0</td>\n",
       "      <td>760.0</td>\n",
       "      <td>5.0</td>\n",
       "    </tr>\n",
       "    <tr>\n",
       "      <th>1</th>\n",
       "      <td>154</td>\n",
       "      <td>158</td>\n",
       "      <td>9</td>\n",
       "      <td>156.0</td>\n",
       "      <td>1404.0</td>\n",
       "      <td>14.0</td>\n",
       "    </tr>\n",
       "    <tr>\n",
       "      <th>2</th>\n",
       "      <td>158</td>\n",
       "      <td>162</td>\n",
       "      <td>11</td>\n",
       "      <td>160.0</td>\n",
       "      <td>1760.0</td>\n",
       "      <td>25.0</td>\n",
       "    </tr>\n",
       "    <tr>\n",
       "      <th>3</th>\n",
       "      <td>162</td>\n",
       "      <td>166</td>\n",
       "      <td>7</td>\n",
       "      <td>164.0</td>\n",
       "      <td>1148.0</td>\n",
       "      <td>32.0</td>\n",
       "    </tr>\n",
       "    <tr>\n",
       "      <th>4</th>\n",
       "      <td>166</td>\n",
       "      <td>170</td>\n",
       "      <td>5</td>\n",
       "      <td>168.0</td>\n",
       "      <td>840.0</td>\n",
       "      <td>37.0</td>\n",
       "    </tr>\n",
       "    <tr>\n",
       "      <th>5</th>\n",
       "      <td>170</td>\n",
       "      <td>174</td>\n",
       "      <td>3</td>\n",
       "      <td>172.0</td>\n",
       "      <td>516.0</td>\n",
       "      <td>40.0</td>\n",
       "    </tr>\n",
       "  </tbody>\n",
       "</table>\n",
       "</div>"
      ],
      "text/plain": [
       "   inferior  superior  fi     xi   fi.xi    Fi\n",
       "0       150       154   5  152.0   760.0   5.0\n",
       "1       154       158   9  156.0  1404.0  14.0\n",
       "2       158       162  11  160.0  1760.0  25.0\n",
       "3       162       166   7  164.0  1148.0  32.0\n",
       "4       166       170   5  168.0   840.0  37.0\n",
       "5       170       174   3  172.0   516.0  40.0"
      ]
     },
     "execution_count": 36,
     "metadata": {},
     "output_type": "execute_result"
    }
   ],
   "source": [
    "dataset"
   ]
  },
  {
   "cell_type": "code",
   "execution_count": 37,
   "metadata": {
    "colab": {
     "base_uri": "https://localhost:8080/",
     "height": 55
    },
    "id": "0wzJiSOBuFtQ",
    "outputId": "1d8bc2b4-206f-4534-b5d2-ffb3bbd5088e"
   },
   "outputs": [
    {
     "data": {
      "text/plain": [
       "20.0"
      ]
     },
     "execution_count": 37,
     "metadata": {},
     "output_type": "execute_result"
    }
   ],
   "source": [
    "fi_2 = dataset['fi'].sum() / 2\n",
    "fi_2"
   ]
  },
  {
   "cell_type": "code",
   "execution_count": 38,
   "metadata": {
    "id": "tMoZdwCwuhGh"
   },
   "outputs": [],
   "source": [
    "limite_inferior, frequencia_classe, id_frequencia_anterior = 0, 0, 0\n",
    "for linha in dataset.iterrows():\n",
    "  #print(linha)\n",
    "  limite_inferior = linha[1][0]\n",
    "  frequencia_classe = linha[1][2]\n",
    "  id_frequencia_anterior = linha[0]\n",
    "  if linha[1][5] >= fi_2:\n",
    "    id_frequencia_anterior -= 1\n",
    "    break"
   ]
  },
  {
   "cell_type": "code",
   "execution_count": 39,
   "metadata": {
    "colab": {
     "base_uri": "https://localhost:8080/",
     "height": 55
    },
    "id": "epjTjW9mvgFB",
    "outputId": "2f632465-8a27-4ff5-e4a1-7da567801895"
   },
   "outputs": [
    {
     "data": {
      "text/plain": [
       "(158.0, 11.0, 1)"
      ]
     },
     "execution_count": 39,
     "metadata": {},
     "output_type": "execute_result"
    }
   ],
   "source": [
    "limite_inferior, frequencia_classe, id_frequencia_anterior"
   ]
  },
  {
   "cell_type": "code",
   "execution_count": 40,
   "metadata": {
    "colab": {
     "base_uri": "https://localhost:8080/",
     "height": 55
    },
    "id": "IVEonk5uvpWJ",
    "outputId": "afd6df7d-91ef-47b9-9548-2b5b26573ab9"
   },
   "outputs": [
    {
     "data": {
      "text/plain": [
       "14.0"
      ]
     },
     "execution_count": 40,
     "metadata": {},
     "output_type": "execute_result"
    }
   ],
   "source": [
    "Fi_anterior = dataset.iloc[[id_frequencia_anterior]]['Fi'].values[0]\n",
    "Fi_anterior"
   ]
  },
  {
   "cell_type": "code",
   "execution_count": 41,
   "metadata": {
    "colab": {
     "base_uri": "https://localhost:8080/",
     "height": 55
    },
    "id": "sHR6I53lv2e1",
    "outputId": "d3084ed0-05e6-4550-ff87-99328b2a5dd3"
   },
   "outputs": [
    {
     "data": {
      "text/plain": [
       "160.1818181818182"
      ]
     },
     "execution_count": 41,
     "metadata": {},
     "output_type": "execute_result"
    }
   ],
   "source": [
    "mediana = limite_inferior + ((fi_2 - Fi_anterior) * 4) / frequencia_classe\n",
    "mediana"
   ]
  },
  {
   "cell_type": "markdown",
   "metadata": {
    "id": "uh7NCu1iwIPa"
   },
   "source": [
    "### Função completa"
   ]
  },
  {
   "cell_type": "code",
   "execution_count": 42,
   "metadata": {
    "id": "hNMHtdsXwH5s"
   },
   "outputs": [],
   "source": [
    "def get_estatisticas(dataframe):\n",
    "  media = dataset['fi.xi'].sum() / dataset['fi'].sum()\n",
    "  moda = dataset[dataset['fi'] == dataset['fi'].max()]['xi'].values[0]\n",
    "\n",
    "  fi_2 = dataset['fi'].sum() / 2\n",
    "  limite_inferior, frequencia_classe, id_frequencia_anterior = 0, 0, 0\n",
    "  for i, linha in enumerate(dataset.iterrows()):\n",
    "    limite_inferior = linha[1][0]\n",
    "    frequencia_classe = linha[1][2]\n",
    "    id_frequencia_anterior = linha[0]\n",
    "    if linha[1][5] >= fi_2:\n",
    "      id_frequencia_anterior -= 1\n",
    "      break\n",
    "  Fi_anterior = dataset.iloc[[id_frequencia_anterior]]['Fi'].values[0]\n",
    "  mediana = limite_inferior + ((fi_2 - Fi_anterior) * 4) / frequencia_classe\n",
    "\n",
    "  return media, moda, mediana"
   ]
  },
  {
   "cell_type": "code",
   "execution_count": 43,
   "metadata": {
    "colab": {
     "base_uri": "https://localhost:8080/",
     "height": 55
    },
    "id": "A1KzRLFDwMJq",
    "outputId": "9d10017b-24e7-49f6-a415-dac9c119e8b8"
   },
   "outputs": [
    {
     "data": {
      "text/plain": [
       "(160.7, 160.0, 160.1818181818182)"
      ]
     },
     "execution_count": 43,
     "metadata": {},
     "output_type": "execute_result"
    }
   ],
   "source": [
    "get_estatisticas(dataset)"
   ]
  },
  {
   "cell_type": "markdown",
   "metadata": {
    "id": "HznAR-NSzsLR"
   },
   "source": [
    "## Média geométrica, harmônica e quadrática"
   ]
  },
  {
   "cell_type": "markdown",
   "metadata": {
    "id": "BQD7WwSt2tF9"
   },
   "source": [
    "### Média geométrica"
   ]
  },
  {
   "cell_type": "code",
   "execution_count": 44,
   "metadata": {
    "id": "Sp-mdKhPzvTE"
   },
   "outputs": [],
   "source": [
    "from scipy.stats.mstats import gmean"
   ]
  },
  {
   "cell_type": "code",
   "execution_count": null,
   "metadata": {
    "colab": {
     "base_uri": "https://localhost:8080/",
     "height": 55
    },
    "id": "KpECLAAQ283I",
    "outputId": "f4eb73fb-2341-46cc-e697-41c2fc9d7b87"
   },
   "outputs": [],
   "source": [
    "gmean(dados)"
   ]
  },
  {
   "cell_type": "markdown",
   "metadata": {
    "id": "40vHtt4v2u8P"
   },
   "source": [
    "### Média harmônica"
   ]
  },
  {
   "cell_type": "code",
   "execution_count": 45,
   "metadata": {
    "id": "aG3D2PzG3DLp"
   },
   "outputs": [],
   "source": [
    "from scipy.stats.mstats import hmean"
   ]
  },
  {
   "cell_type": "code",
   "execution_count": 46,
   "metadata": {
    "colab": {
     "base_uri": "https://localhost:8080/",
     "height": 55
    },
    "id": "H3FILKX33HsR",
    "outputId": "573230d7-18f0-4adb-e576-4616fdf492ce"
   },
   "outputs": [
    {
     "name": "stdout",
     "output_type": "stream",
     "text": [
      "ERROR! Session/line number was not unique in database. History logging moved to new session 9\n"
     ]
    },
    {
     "ename": "TypeError",
     "evalue": "'>=' not supported between instances of 'dict' and 'int'",
     "output_type": "error",
     "traceback": [
      "\u001b[0;31m---------------------------------------------------------------------------\u001b[0m",
      "\u001b[0;31mTypeError\u001b[0m                                 Traceback (most recent call last)",
      "Input \u001b[0;32mIn [46]\u001b[0m, in \u001b[0;36m<module>\u001b[0;34m\u001b[0m\n\u001b[0;32m----> 1\u001b[0m \u001b[43mhmean\u001b[49m\u001b[43m(\u001b[49m\u001b[43mdados\u001b[49m\u001b[43m)\u001b[49m\n",
      "File \u001b[0;32m~/.local/lib/python3.8/site-packages/scipy/stats/_stats_py.py:345\u001b[0m, in \u001b[0;36mhmean\u001b[0;34m(a, axis, dtype)\u001b[0m\n\u001b[1;32m    343\u001b[0m \u001b[38;5;28;01mif\u001b[39;00m \u001b[38;5;129;01mnot\u001b[39;00m \u001b[38;5;28misinstance\u001b[39m(a, np\u001b[38;5;241m.\u001b[39mndarray):\n\u001b[1;32m    344\u001b[0m     a \u001b[38;5;241m=\u001b[39m np\u001b[38;5;241m.\u001b[39marray(a, dtype\u001b[38;5;241m=\u001b[39mdtype)\n\u001b[0;32m--> 345\u001b[0m \u001b[38;5;28;01mif\u001b[39;00m np\u001b[38;5;241m.\u001b[39mall(\u001b[43ma\u001b[49m\u001b[43m \u001b[49m\u001b[38;5;241;43m>\u001b[39;49m\u001b[38;5;241;43m=\u001b[39;49m\u001b[43m \u001b[49m\u001b[38;5;241;43m0\u001b[39;49m):\n\u001b[1;32m    346\u001b[0m     \u001b[38;5;66;03m# Harmonic mean only defined if greater than or equal to to zero.\u001b[39;00m\n\u001b[1;32m    347\u001b[0m     \u001b[38;5;28;01mif\u001b[39;00m \u001b[38;5;28misinstance\u001b[39m(a, np\u001b[38;5;241m.\u001b[39mma\u001b[38;5;241m.\u001b[39mMaskedArray):\n\u001b[1;32m    348\u001b[0m         size \u001b[38;5;241m=\u001b[39m a\u001b[38;5;241m.\u001b[39mcount(axis)\n",
      "\u001b[0;31mTypeError\u001b[0m: '>=' not supported between instances of 'dict' and 'int'"
     ]
    }
   ],
   "source": [
    "hmean(dados)"
   ]
  },
  {
   "cell_type": "markdown",
   "metadata": {
    "id": "CGYgxqjs2xsm"
   },
   "source": [
    "### Média quadrática"
   ]
  },
  {
   "cell_type": "code",
   "execution_count": null,
   "metadata": {
    "id": "yUKEqqH53Odl"
   },
   "outputs": [],
   "source": [
    "def quadratic_mean(dados):\n",
    "  return math.sqrt(sum(n * n for n in dados) / len(dados))"
   ]
  },
  {
   "cell_type": "code",
   "execution_count": null,
   "metadata": {
    "colab": {
     "base_uri": "https://localhost:8080/",
     "height": 55
    },
    "id": "HRwZPEAg3lRZ",
    "outputId": "c235d9e1-61e5-4800-9e3a-0fbbe243ef1a"
   },
   "outputs": [],
   "source": [
    "quadratic_mean(dados)"
   ]
  },
  {
   "cell_type": "markdown",
   "metadata": {
    "id": "VyF_516h54sn"
   },
   "source": [
    "## Quartis"
   ]
  },
  {
   "cell_type": "code",
   "execution_count": null,
   "metadata": {
    "id": "4cYJ4s3856Wg"
   },
   "outputs": [],
   "source": [
    "dados_impar = [150, 151, 152, 152, 153, 154, 155, 155, 155]"
   ]
  },
  {
   "cell_type": "markdown",
   "metadata": {
    "id": "9BZwV9mY5-u1"
   },
   "source": [
    "### Cálculo manual"
   ]
  },
  {
   "cell_type": "code",
   "execution_count": null,
   "metadata": {
    "colab": {
     "base_uri": "https://localhost:8080/",
     "height": 55
    },
    "id": "RyvlO0Y66cbq",
    "outputId": "66c2dfe5-e0d8-4e0a-bf26-21745004ea3f"
   },
   "outputs": [],
   "source": [
    "np.median(dados_impar)"
   ]
  },
  {
   "cell_type": "code",
   "execution_count": null,
   "metadata": {
    "colab": {
     "base_uri": "https://localhost:8080/",
     "height": 55
    },
    "id": "9onAwzrU6qSL",
    "outputId": "9033a13d-b064-4a9d-d3a5-4eaa7159632f"
   },
   "outputs": [],
   "source": [
    "posicao_mediana = math.floor(len(dados_impar) / 2)\n",
    "posicao_mediana"
   ]
  },
  {
   "cell_type": "code",
   "execution_count": null,
   "metadata": {
    "colab": {
     "base_uri": "https://localhost:8080/",
     "height": 55
    },
    "id": "5OXuJgwx62EM",
    "outputId": "d105f81e-1909-40d7-9bee-7ac5bc00267e"
   },
   "outputs": [],
   "source": [
    "esquerda = dados_impar[0:posicao_mediana]\n",
    "esquerda"
   ]
  },
  {
   "cell_type": "code",
   "execution_count": null,
   "metadata": {
    "colab": {
     "base_uri": "https://localhost:8080/",
     "height": 55
    },
    "id": "8uaADedN7END",
    "outputId": "1289a946-1112-4cc8-ce48-1d274005652f"
   },
   "outputs": [],
   "source": [
    "np.median(esquerda)"
   ]
  },
  {
   "cell_type": "code",
   "execution_count": null,
   "metadata": {
    "colab": {
     "base_uri": "https://localhost:8080/",
     "height": 55
    },
    "id": "rku5WV_v7KJO",
    "outputId": "6f6cebf0-bee1-4da8-b0d1-f8195e218d53"
   },
   "outputs": [],
   "source": [
    "direita = dados_impar[posicao_mediana + 1:]\n",
    "direita"
   ]
  },
  {
   "cell_type": "code",
   "execution_count": null,
   "metadata": {
    "colab": {
     "base_uri": "https://localhost:8080/",
     "height": 55
    },
    "id": "FUgD6WvY7Vvk",
    "outputId": "a94495ec-7a77-4270-f329-8c1a823e3609"
   },
   "outputs": [],
   "source": [
    "np.median(direita)"
   ]
  },
  {
   "cell_type": "markdown",
   "metadata": {
    "id": "13w9k3dl6Bqc"
   },
   "source": [
    "### Bibliotecas"
   ]
  },
  {
   "cell_type": "markdown",
   "metadata": {
    "id": "-Kt4Xxvf6DHv"
   },
   "source": [
    "#### numpy"
   ]
  },
  {
   "cell_type": "code",
   "execution_count": null,
   "metadata": {
    "colab": {
     "base_uri": "https://localhost:8080/",
     "height": 55
    },
    "id": "e0O7axSm7eHc",
    "outputId": "acca1455-c3c2-40ee-a7fc-3734859036cc"
   },
   "outputs": [],
   "source": [
    "np.quantile(dados_impar, 0.5)"
   ]
  },
  {
   "cell_type": "code",
   "execution_count": null,
   "metadata": {
    "colab": {
     "base_uri": "https://localhost:8080/",
     "height": 55
    },
    "id": "hAdVsrD_7khd",
    "outputId": "1493e574-eccd-48a4-ccbb-d8c14fedcc6e"
   },
   "outputs": [],
   "source": [
    "np.quantile(dados_impar, 0.75)"
   ]
  },
  {
   "cell_type": "code",
   "execution_count": null,
   "metadata": {
    "colab": {
     "base_uri": "https://localhost:8080/",
     "height": 55
    },
    "id": "PsJ_B8na7omh",
    "outputId": "9648cf14-813a-41a8-ee22-cb17f6ffc941"
   },
   "outputs": [],
   "source": [
    "np.quantile(dados_impar, 0.25)"
   ]
  },
  {
   "cell_type": "code",
   "execution_count": null,
   "metadata": {
    "colab": {
     "base_uri": "https://localhost:8080/",
     "height": 55
    },
    "id": "1zvFaUQn74EQ",
    "outputId": "46807edc-b67a-406e-c764-93222484383f"
   },
   "outputs": [],
   "source": [
    "esquerda2 = dados_impar[0:posicao_mediana + 1]\n",
    "esquerda2"
   ]
  },
  {
   "cell_type": "code",
   "execution_count": null,
   "metadata": {
    "colab": {
     "base_uri": "https://localhost:8080/",
     "height": 55
    },
    "id": "DWUO2FTb7-A6",
    "outputId": "7d495fdd-94cd-4e3e-cd3c-12b1ca81b878"
   },
   "outputs": [],
   "source": [
    "np.median(esquerda2)"
   ]
  },
  {
   "cell_type": "code",
   "execution_count": null,
   "metadata": {
    "colab": {
     "base_uri": "https://localhost:8080/",
     "height": 55
    },
    "id": "slThBXsj8CA6",
    "outputId": "719269b3-197c-4363-862a-e243ff6fa300"
   },
   "outputs": [],
   "source": [
    "np.quantile(dados, 0.25), np.quantile(dados, 0.50), np.quantile(dados, 0.75)"
   ]
  },
  {
   "cell_type": "markdown",
   "metadata": {
    "id": "N9sKA2GP6FNy"
   },
   "source": [
    "#### scipy"
   ]
  },
  {
   "cell_type": "code",
   "execution_count": null,
   "metadata": {
    "colab": {
     "base_uri": "https://localhost:8080/",
     "height": 55
    },
    "id": "nhswmwGL8PQ6",
    "outputId": "34274327-bda6-43e1-933e-0200f06e45f9"
   },
   "outputs": [],
   "source": [
    "stats.scoreatpercentile(dados, 25), stats.scoreatpercentile(dados, 50), stats.scoreatpercentile(dados, 75)"
   ]
  },
  {
   "cell_type": "markdown",
   "metadata": {
    "id": "k3MtyYZl6HBb"
   },
   "source": [
    "#### pandas"
   ]
  },
  {
   "cell_type": "code",
   "execution_count": null,
   "metadata": {
    "colab": {
     "base_uri": "https://localhost:8080/",
     "height": 228
    },
    "id": "Ti0Zldxh8b8-",
    "outputId": "090d66c4-d493-47a5-f7b7-872507eb9b6f"
   },
   "outputs": [],
   "source": [
    "import pandas as pd\n",
    "dataset = pd.DataFrame(dados)\n",
    "dataset.head()"
   ]
  },
  {
   "cell_type": "code",
   "execution_count": null,
   "metadata": {
    "colab": {
     "base_uri": "https://localhost:8080/",
     "height": 164
    },
    "id": "UIqDiuW98lOl",
    "outputId": "5633b06b-e12a-4b00-a56c-4ccc908954e6"
   },
   "outputs": [],
   "source": [
    "dataset.quantile([0.25, 0.5, 0.75])"
   ]
  },
  {
   "cell_type": "code",
   "execution_count": null,
   "metadata": {
    "colab": {
     "base_uri": "https://localhost:8080/",
     "height": 323
    },
    "id": "R906LS198tyn",
    "outputId": "d0082baf-3531-4b72-85c4-ae63f2b5425a"
   },
   "outputs": [],
   "source": [
    "dataset.describe()"
   ]
  },
  {
   "cell_type": "markdown",
   "metadata": {
    "id": "Y6ZlMtoN_GEm"
   },
   "source": [
    "## Quartis com distribuição de frequência (dados agrupados)"
   ]
  },
  {
   "cell_type": "code",
   "execution_count": null,
   "metadata": {
    "colab": {
     "base_uri": "https://localhost:8080/",
     "height": 260
    },
    "id": "EALDkKwt_JmJ",
    "outputId": "84c65520-715f-46b8-db9d-6956930cc9a6"
   },
   "outputs": [],
   "source": [
    "dataset"
   ]
  },
  {
   "cell_type": "code",
   "execution_count": null,
   "metadata": {
    "id": "fPOp-JQC_cJ9"
   },
   "outputs": [],
   "source": [
    "def get_quartil(dataframe, q1 = True):\n",
    "  if q1 == True:\n",
    "    fi_4 = dataset['fi'].sum() / 4\n",
    "  else:\n",
    "    fi_4 = (3 * dataset['fi'].sum()) / 4\n",
    "  \n",
    "  limite_inferior, frequencia_classe, id_frequencia_anterior = 0, 0, 0\n",
    "  for linha in dataset.iterrows():\n",
    "    limite_inferior = linha[1][0]\n",
    "    frequencia_classe = linha[1][2]\n",
    "    id_frequencia_anterior = linha[0]\n",
    "    if linha[1][5] >= fi_4:\n",
    "      id_frequencia_anterior -= 1\n",
    "      break\n",
    "  Fi_anterior = dataset.iloc[[id_frequencia_anterior]]['Fi'].values[0]\n",
    "  q = limite_inferior + ((fi_4 - Fi_anterior) * 4) / frequencia_classe\n",
    "\n",
    "  return q"
   ]
  },
  {
   "cell_type": "code",
   "execution_count": null,
   "metadata": {
    "colab": {
     "base_uri": "https://localhost:8080/",
     "height": 55
    },
    "id": "urVpW2Qw_ePt",
    "outputId": "d35c283a-9f4b-4285-dfd8-253460c4d2eb"
   },
   "outputs": [],
   "source": [
    "get_quartil(dados), get_quartil(dados, q1 = False)"
   ]
  },
  {
   "cell_type": "markdown",
   "metadata": {
    "id": "40X2rZ6KA0rW"
   },
   "source": [
    "## Percentis"
   ]
  },
  {
   "cell_type": "code",
   "execution_count": null,
   "metadata": {
    "colab": {
     "base_uri": "https://localhost:8080/",
     "height": 55
    },
    "id": "BNt-XeoiC4tX",
    "outputId": "bb743657-8742-458d-9ea5-916b2e157f1d"
   },
   "outputs": [],
   "source": [
    "np.median(dados)"
   ]
  },
  {
   "cell_type": "code",
   "execution_count": null,
   "metadata": {
    "colab": {
     "base_uri": "https://localhost:8080/",
     "height": 55
    },
    "id": "ekvq8XaMDJZX",
    "outputId": "168ddcff-4459-4548-e505-f141afb29609"
   },
   "outputs": [],
   "source": [
    "np.quantile(dados, 0.5)"
   ]
  },
  {
   "cell_type": "code",
   "execution_count": null,
   "metadata": {
    "colab": {
     "base_uri": "https://localhost:8080/",
     "height": 55
    },
    "id": "RVZB3gJ8DOhJ",
    "outputId": "10aa045c-d810-48bf-dd0f-53e12edd4fc3"
   },
   "outputs": [],
   "source": [
    "np.percentile(dados, 50)"
   ]
  },
  {
   "cell_type": "code",
   "execution_count": null,
   "metadata": {
    "colab": {
     "base_uri": "https://localhost:8080/",
     "height": 55
    },
    "id": "EGZlSML1DTt6",
    "outputId": "344fb888-bf0b-493d-a3a5-010290d725de"
   },
   "outputs": [],
   "source": [
    "np.percentile(dados, 5), np.percentile(dados, 10), np.percentile(dados, 90)"
   ]
  },
  {
   "cell_type": "code",
   "execution_count": null,
   "metadata": {
    "colab": {
     "base_uri": "https://localhost:8080/",
     "height": 55
    },
    "id": "FMs5kbKnDqFQ",
    "outputId": "6e504ccd-d502-4c7b-bceb-fc278bc3c13e"
   },
   "outputs": [],
   "source": [
    "stats.scoreatpercentile(dados, 5), stats.scoreatpercentile(dados, 10), stats.scoreatpercentile(dados, 90)"
   ]
  },
  {
   "cell_type": "code",
   "execution_count": null,
   "metadata": {
    "colab": {
     "base_uri": "https://localhost:8080/",
     "height": 228
    },
    "id": "QEdIDmpaD4uI",
    "outputId": "cf23bbc9-b52a-401f-f979-59cc1324d7cd"
   },
   "outputs": [],
   "source": [
    "import pandas as pd\n",
    "dataset = pd.DataFrame(dados)\n",
    "dataset.head()"
   ]
  },
  {
   "cell_type": "code",
   "execution_count": null,
   "metadata": {
    "colab": {
     "base_uri": "https://localhost:8080/",
     "height": 164
    },
    "id": "5_JpPm-3EAt9",
    "outputId": "14649103-f7c0-4e90-f12f-ac83daba5af1"
   },
   "outputs": [],
   "source": [
    "dataset.quantile([0.05, 0.10, 0.90])"
   ]
  },
  {
   "cell_type": "markdown",
   "metadata": {
    "id": "dkvpLKH6EkIF"
   },
   "source": [
    "## Exercício"
   ]
  },
  {
   "cell_type": "code",
   "execution_count": null,
   "metadata": {
    "id": "7xux7mrbElW4"
   },
   "outputs": [],
   "source": [
    "dataset = pd.read_csv('census.csv')"
   ]
  },
  {
   "cell_type": "code",
   "execution_count": null,
   "metadata": {
    "colab": {
     "base_uri": "https://localhost:8080/",
     "height": 351
    },
    "id": "bHmKVQLcEo3H",
    "outputId": "5004a092-a435-4918-ac52-15f65dc822e7"
   },
   "outputs": [],
   "source": [
    "dataset.head()"
   ]
  },
  {
   "cell_type": "code",
   "execution_count": null,
   "metadata": {
    "colab": {
     "base_uri": "https://localhost:8080/",
     "height": 55
    },
    "id": "MfhaV5NWEsS-",
    "outputId": "8674f98f-fecb-4218-d2bf-af08bd37ccb0"
   },
   "outputs": [],
   "source": [
    "dataset['age'].mean()"
   ]
  },
  {
   "cell_type": "code",
   "execution_count": null,
   "metadata": {
    "colab": {
     "base_uri": "https://localhost:8080/",
     "height": 55
    },
    "id": "O7muz31-EuFa",
    "outputId": "4196c1c6-2b03-4a93-cb56-2565404a5d43"
   },
   "outputs": [],
   "source": [
    "stats.hmean(dataset['age'])"
   ]
  },
  {
   "cell_type": "code",
   "execution_count": null,
   "metadata": {
    "colab": {
     "base_uri": "https://localhost:8080/",
     "height": 55
    },
    "id": "i_K1VMSAEvwo",
    "outputId": "b07b1c64-73de-499f-8963-649225005525"
   },
   "outputs": [],
   "source": [
    "from scipy.stats.mstats import gmean\n",
    "gmean(dataset['age'])"
   ]
  },
  {
   "cell_type": "code",
   "execution_count": null,
   "metadata": {
    "colab": {
     "base_uri": "https://localhost:8080/",
     "height": 55
    },
    "id": "0TQUWrCmExaQ",
    "outputId": "de98d0e5-a937-4340-cfca-ffb9bbe3952c"
   },
   "outputs": [],
   "source": [
    "quadratic_mean(dataset['age'])"
   ]
  },
  {
   "cell_type": "code",
   "execution_count": null,
   "metadata": {
    "colab": {
     "base_uri": "https://localhost:8080/",
     "height": 55
    },
    "id": "abJhV98pEzK3",
    "outputId": "8adf02ac-2c03-45d8-8b73-9f7e062cf1cf"
   },
   "outputs": [],
   "source": [
    "dataset['age'].median()"
   ]
  },
  {
   "cell_type": "code",
   "execution_count": null,
   "metadata": {
    "colab": {
     "base_uri": "https://localhost:8080/",
     "height": 55
    },
    "id": "49NfNl9UE0qG",
    "outputId": "d721e26c-0903-4a05-fa4c-456464f81ba6"
   },
   "outputs": [],
   "source": [
    "statistics.mode(dataset['age'])"
   ]
  },
  {
   "cell_type": "markdown",
   "metadata": {
    "id": "-dopP1kEKPLp"
   },
   "source": [
    "## Medidas de dispersão"
   ]
  },
  {
   "cell_type": "markdown",
   "metadata": {
    "id": "bTJuo1fhKabw"
   },
   "source": [
    "### Amplitude total e diferença interquartil"
   ]
  },
  {
   "cell_type": "code",
   "execution_count": null,
   "metadata": {
    "colab": {
     "base_uri": "https://localhost:8080/",
     "height": 108
    },
    "id": "Ev6ZLHJaKfRO",
    "outputId": "5ef26b8d-36dc-40ac-db7c-1b91a5053989"
   },
   "outputs": [],
   "source": [
    "dados"
   ]
  },
  {
   "cell_type": "code",
   "execution_count": null,
   "metadata": {
    "colab": {
     "base_uri": "https://localhost:8080/",
     "height": 55
    },
    "id": "Wy_4jziLK0LP",
    "outputId": "128cf788-3f68-4605-8e06-c21dac55ae5a"
   },
   "outputs": [],
   "source": [
    "dados.max() - dados.min()"
   ]
  },
  {
   "cell_type": "code",
   "execution_count": null,
   "metadata": {
    "colab": {
     "base_uri": "https://localhost:8080/",
     "height": 55
    },
    "id": "exbPoyqzK6bQ",
    "outputId": "daccad58-2f53-4745-8b21-c6ca1cc8705e"
   },
   "outputs": [],
   "source": [
    "q1 = np.quantile(dados, 0.25)\n",
    "q3 = np.quantile(dados, 0.75)\n",
    "q1, q3"
   ]
  },
  {
   "cell_type": "code",
   "execution_count": null,
   "metadata": {
    "colab": {
     "base_uri": "https://localhost:8080/",
     "height": 55
    },
    "id": "NZBb9ENXLGs-",
    "outputId": "a07f9efd-27d3-425f-fb48-d723a7bf31e5"
   },
   "outputs": [],
   "source": [
    "diferenca_interquartil = q3 - q1\n",
    "diferenca_interquartil"
   ]
  },
  {
   "cell_type": "code",
   "execution_count": null,
   "metadata": {
    "colab": {
     "base_uri": "https://localhost:8080/",
     "height": 55
    },
    "id": "9pu9q8uWLQ0X",
    "outputId": "7a9a6b65-dfc1-479a-c524-d9ef1d30d9d8"
   },
   "outputs": [],
   "source": [
    "inferior = q1 - (1.5 * diferenca_interquartil)\n",
    "inferior"
   ]
  },
  {
   "cell_type": "code",
   "execution_count": null,
   "metadata": {
    "colab": {
     "base_uri": "https://localhost:8080/",
     "height": 55
    },
    "id": "ZEiVhtd1Lalh",
    "outputId": "6f12b3b9-3b82-40cc-d3f7-77d46277f180"
   },
   "outputs": [],
   "source": [
    "superior = q3 + (1.5 * diferenca_interquartil)\n",
    "superior"
   ]
  },
  {
   "cell_type": "markdown",
   "metadata": {
    "id": "C2TRnsP6PINq"
   },
   "source": [
    "### Variância, desvio padrão e coeficiente de variação"
   ]
  },
  {
   "cell_type": "code",
   "execution_count": null,
   "metadata": {
    "id": "XtvrTH_KPVrj"
   },
   "outputs": [],
   "source": [
    "dados_impar = np.array([150, 151, 152, 152, 153, 154, 155, 155, 155])"
   ]
  },
  {
   "cell_type": "markdown",
   "metadata": {
    "id": "w_PKhpBFPMpe"
   },
   "source": [
    "#### Cálculo manual"
   ]
  },
  {
   "cell_type": "code",
   "execution_count": null,
   "metadata": {
    "colab": {
     "base_uri": "https://localhost:8080/",
     "height": 55
    },
    "id": "CghU9wNFPgZd",
    "outputId": "3d0b201f-32fb-458b-986c-76f809de7bd7"
   },
   "outputs": [],
   "source": [
    "media = dados_impar.sum() / len(dados_impar)\n",
    "media"
   ]
  },
  {
   "cell_type": "code",
   "execution_count": null,
   "metadata": {
    "colab": {
     "base_uri": "https://localhost:8080/",
     "height": 55
    },
    "id": "rIEceGDNQERu",
    "outputId": "3c77af65-36f4-442a-c4c4-1d4f42edc69c"
   },
   "outputs": [],
   "source": [
    "desvio = abs(dados_impar - media)\n",
    "desvio"
   ]
  },
  {
   "cell_type": "code",
   "execution_count": null,
   "metadata": {
    "colab": {
     "base_uri": "https://localhost:8080/",
     "height": 55
    },
    "id": "zZvtvDIUQWq6",
    "outputId": "fd00c9c8-d6ce-4b58-cee2-6d85f064039c"
   },
   "outputs": [],
   "source": [
    "desvio = desvio ** 2\n",
    "desvio"
   ]
  },
  {
   "cell_type": "code",
   "execution_count": null,
   "metadata": {
    "colab": {
     "base_uri": "https://localhost:8080/",
     "height": 55
    },
    "id": "YkfDmtQeQgD1",
    "outputId": "f91683ab-d395-4e0c-98b7-ea3ecc3c024d"
   },
   "outputs": [],
   "source": [
    "soma_desvio = desvio.sum()\n",
    "soma_desvio"
   ]
  },
  {
   "cell_type": "code",
   "execution_count": null,
   "metadata": {
    "colab": {
     "base_uri": "https://localhost:8080/",
     "height": 55
    },
    "id": "kzpWXvrMQk--",
    "outputId": "d380becf-073c-4a18-89b8-06e59716e37b"
   },
   "outputs": [],
   "source": [
    "v = soma_desvio / len(dados_impar)\n",
    "v"
   ]
  },
  {
   "cell_type": "code",
   "execution_count": null,
   "metadata": {
    "colab": {
     "base_uri": "https://localhost:8080/",
     "height": 55
    },
    "id": "xTVUeK9wTKMs",
    "outputId": "64d9ecd2-e987-4161-df34-39f58b3ae401"
   },
   "outputs": [],
   "source": [
    "dp = math.sqrt(v)\n",
    "dp"
   ]
  },
  {
   "cell_type": "code",
   "execution_count": null,
   "metadata": {
    "colab": {
     "base_uri": "https://localhost:8080/",
     "height": 55
    },
    "id": "qk1ByuaoVdFs",
    "outputId": "1bea6956-92c4-4493-8c79-5213663563a3"
   },
   "outputs": [],
   "source": [
    "cv = (dp / media) * 100\n",
    "cv"
   ]
  },
  {
   "cell_type": "code",
   "execution_count": null,
   "metadata": {
    "id": "vdCkODt5QzoD"
   },
   "outputs": [],
   "source": [
    "def get_variancia_desvio_padrao_coeficiente(dataset):\n",
    "  media = dataset.sum() / len(dataset)\n",
    "  desvio = abs(dados_impar - media)\n",
    "  desvio = desvio ** 2\n",
    "  soma_desvio = desvio.sum()\n",
    "  variancia = soma_desvio / len(dados_impar)\n",
    "  dp = math.sqrt(variancia)\n",
    "  return variancia, dp, (dp / media) * 100"
   ]
  },
  {
   "cell_type": "code",
   "execution_count": null,
   "metadata": {
    "colab": {
     "base_uri": "https://localhost:8080/",
     "height": 55
    },
    "id": "Mx8qt1epRDdc",
    "outputId": "1000fd73-5c9c-43aa-b1a9-4537cfa82468"
   },
   "outputs": [],
   "source": [
    "get_variancia_desvio_padrao_coeficiente(dados_impar)"
   ]
  },
  {
   "cell_type": "markdown",
   "metadata": {
    "id": "VxDOYNX3POJN"
   },
   "source": [
    "#### Bibliotecas"
   ]
  },
  {
   "cell_type": "code",
   "execution_count": null,
   "metadata": {
    "colab": {
     "base_uri": "https://localhost:8080/",
     "height": 55
    },
    "id": "hAe47WyIQwvW",
    "outputId": "cfe61214-1e8c-457c-9d87-92efad2beaf8"
   },
   "outputs": [],
   "source": [
    "np.var(dados_impar)"
   ]
  },
  {
   "cell_type": "code",
   "execution_count": null,
   "metadata": {
    "colab": {
     "base_uri": "https://localhost:8080/",
     "height": 55
    },
    "id": "1yYefrfsTfes",
    "outputId": "c4d72a03-8145-453e-8c32-91858f76f0be"
   },
   "outputs": [],
   "source": [
    "np.std(dados_impar)"
   ]
  },
  {
   "cell_type": "code",
   "execution_count": null,
   "metadata": {
    "colab": {
     "base_uri": "https://localhost:8080/",
     "height": 55
    },
    "id": "4Ilo1yOlRWjG",
    "outputId": "6efdfc5e-b2f3-45e1-f85a-2a6285f76d09"
   },
   "outputs": [],
   "source": [
    "np.var(dados)"
   ]
  },
  {
   "cell_type": "code",
   "execution_count": null,
   "metadata": {
    "colab": {
     "base_uri": "https://localhost:8080/",
     "height": 55
    },
    "id": "3RG-BmxCTjmc",
    "outputId": "615662c9-292f-4df8-9e93-75006862daef"
   },
   "outputs": [],
   "source": [
    "np.std(dados)"
   ]
  },
  {
   "cell_type": "code",
   "execution_count": null,
   "metadata": {
    "colab": {
     "base_uri": "https://localhost:8080/",
     "height": 55
    },
    "id": "TuJ8ZCHaRiv3",
    "outputId": "96b2fcfd-2685-4228-c0b6-769461e7e8c5"
   },
   "outputs": [],
   "source": [
    "statistics.variance(dados)"
   ]
  },
  {
   "cell_type": "code",
   "execution_count": null,
   "metadata": {
    "colab": {
     "base_uri": "https://localhost:8080/",
     "height": 55
    },
    "id": "4nJ9mXjET_Ap",
    "outputId": "3d8ff455-cf08-482d-9b5a-dd2373d5155a"
   },
   "outputs": [],
   "source": [
    "statistics.stdev(dados)"
   ]
  },
  {
   "cell_type": "code",
   "execution_count": null,
   "metadata": {
    "colab": {
     "base_uri": "https://localhost:8080/",
     "height": 55
    },
    "id": "RevDXM8qRm-Q",
    "outputId": "6bef30e6-0632-4305-c89b-ea4a3f0fa3df"
   },
   "outputs": [],
   "source": [
    "from scipy import ndimage\n",
    "ndimage.variance(dados)"
   ]
  },
  {
   "cell_type": "code",
   "execution_count": null,
   "metadata": {
    "colab": {
     "base_uri": "https://localhost:8080/",
     "height": 55
    },
    "id": "q3roW8SmUEG-",
    "outputId": "bdddaa63-1d05-4ba8-d534-cfdbbf669ca9"
   },
   "outputs": [],
   "source": [
    "stats.tstd(dados, ddof = 0)"
   ]
  },
  {
   "cell_type": "code",
   "execution_count": null,
   "metadata": {
    "colab": {
     "base_uri": "https://localhost:8080/",
     "height": 55
    },
    "id": "e9pyRHARV5oW",
    "outputId": "54de3c10-bc90-4f8a-f2c5-6ba757c8d4d5"
   },
   "outputs": [],
   "source": [
    "stats.variation(dados_impar) * 100"
   ]
  },
  {
   "cell_type": "code",
   "execution_count": null,
   "metadata": {
    "colab": {
     "base_uri": "https://localhost:8080/",
     "height": 55
    },
    "id": "a3ha8ug4WD0r",
    "outputId": "5ec539e3-be73-44b8-dcd0-17c0e984e3d6"
   },
   "outputs": [],
   "source": [
    "stats.variation(dados) * 100"
   ]
  },
  {
   "cell_type": "markdown",
   "metadata": {
    "id": "nbRc_liRwkMb"
   },
   "source": [
    "### Desvio padrão com dados agrupados"
   ]
  },
  {
   "cell_type": "code",
   "execution_count": null,
   "metadata": {
    "colab": {
     "base_uri": "https://localhost:8080/",
     "height": 260
    },
    "id": "bWMOMa3AwmqN",
    "outputId": "46055f46-675e-484c-aa22-b8dd4d41de59"
   },
   "outputs": [],
   "source": [
    "dataset"
   ]
  },
  {
   "cell_type": "code",
   "execution_count": null,
   "metadata": {
    "colab": {
     "base_uri": "https://localhost:8080/",
     "height": 260
    },
    "id": "sTuvXlo6w74i",
    "outputId": "b425b5c8-6b5d-465b-846e-02361aa18726"
   },
   "outputs": [],
   "source": [
    "dataset['xi_2'] = dataset['xi'] * dataset['xi']\n",
    "dataset"
   ]
  },
  {
   "cell_type": "code",
   "execution_count": null,
   "metadata": {
    "colab": {
     "base_uri": "https://localhost:8080/",
     "height": 260
    },
    "id": "hgzzFzyqxGNg",
    "outputId": "7499c711-b432-421e-8e98-cfd9e081b446"
   },
   "outputs": [],
   "source": [
    "dataset['fi_xi_2'] = dataset['fi'] * dataset['xi_2']\n",
    "dataset"
   ]
  },
  {
   "cell_type": "code",
   "execution_count": null,
   "metadata": {
    "colab": {
     "base_uri": "https://localhost:8080/",
     "height": 55
    },
    "id": "MwHCwxw4xRiq",
    "outputId": "0d0b00e2-95a1-4cb0-e297-ba703fad51db"
   },
   "outputs": [],
   "source": [
    "dataset.columns"
   ]
  },
  {
   "cell_type": "code",
   "execution_count": null,
   "metadata": {
    "id": "dOdfiIrGxVfR"
   },
   "outputs": [],
   "source": [
    "colunas_ordenadas = ['inferior', 'superior', 'fi', 'xi', 'fi.xi', 'xi_2', 'fi_xi_2', 'Fi']"
   ]
  },
  {
   "cell_type": "code",
   "execution_count": null,
   "metadata": {
    "colab": {
     "base_uri": "https://localhost:8080/",
     "height": 260
    },
    "id": "nCojKch6xbOk",
    "outputId": "101c3702-2871-4610-e78d-8b2149fcdfcc"
   },
   "outputs": [],
   "source": [
    "dataset = dataset[colunas_ordenadas]\n",
    "dataset"
   ]
  },
  {
   "cell_type": "code",
   "execution_count": null,
   "metadata": {
    "colab": {
     "base_uri": "https://localhost:8080/",
     "height": 55
    },
    "id": "6cLVZIJdxkZA",
    "outputId": "e99de57a-019a-4807-d24e-6f2ec21aeaf6"
   },
   "outputs": [],
   "source": [
    "dp = math.sqrt(dataset['fi_xi_2'].sum() / dataset['fi'].sum() - math.pow(dataset['fi.xi'].sum() / dataset['fi'].sum(), 2))\n",
    "dp"
   ]
  },
  {
   "cell_type": "markdown",
   "metadata": {
    "id": "ePujRo6pyghq"
   },
   "source": [
    "## Testes com algoritmos de classificação"
   ]
  },
  {
   "cell_type": "code",
   "execution_count": null,
   "metadata": {
    "id": "VzqiqKfByjbm"
   },
   "outputs": [],
   "source": [
    "import pandas as pd\n",
    "dataset = pd.read_csv('credit_data.csv')"
   ]
  },
  {
   "cell_type": "code",
   "execution_count": null,
   "metadata": {
    "colab": {
     "base_uri": "https://localhost:8080/",
     "height": 55
    },
    "id": "WiprqgUSy_Sh",
    "outputId": "9b23a9a9-751b-4cf0-9428-dc75dce4ff80"
   },
   "outputs": [],
   "source": [
    "dataset.dropna(inplace=True)\n",
    "dataset.shape"
   ]
  },
  {
   "cell_type": "code",
   "execution_count": null,
   "metadata": {
    "colab": {
     "base_uri": "https://localhost:8080/",
     "height": 447
    },
    "id": "1NnHdB05zQY8",
    "outputId": "db4d7bdf-8e09-4387-c915-ff1a6d972f51"
   },
   "outputs": [],
   "source": [
    "dataset"
   ]
  },
  {
   "cell_type": "code",
   "execution_count": null,
   "metadata": {
    "colab": {
     "base_uri": "https://localhost:8080/",
     "height": 160
    },
    "id": "90hxJ95tzZMM",
    "outputId": "94d17394-ca12-44f8-e0ce-a9456773fd79"
   },
   "outputs": [],
   "source": [
    "X = dataset.iloc[:, 1:4].values\n",
    "X"
   ]
  },
  {
   "cell_type": "code",
   "execution_count": null,
   "metadata": {
    "colab": {
     "base_uri": "https://localhost:8080/",
     "height": 55
    },
    "id": "J9Ph7PSVzkBy",
    "outputId": "ac86a474-59ec-469a-dbfc-53e5fef4d4fe"
   },
   "outputs": [],
   "source": [
    "y = dataset.iloc[:, 4].values\n",
    "y"
   ]
  },
  {
   "cell_type": "code",
   "execution_count": null,
   "metadata": {
    "id": "aghDBikCzuO5"
   },
   "outputs": [],
   "source": [
    "from sklearn.model_selection import train_test_split\n",
    "from sklearn.naive_bayes import GaussianNB\n",
    "from sklearn.linear_model import LogisticRegression\n",
    "from sklearn.ensemble import RandomForestClassifier\n",
    "from sklearn.metrics import accuracy_score"
   ]
  },
  {
   "cell_type": "code",
   "execution_count": null,
   "metadata": {
    "id": "klvWRkUc0FlG"
   },
   "outputs": [],
   "source": [
    "resultados_naive_bayes = []\n",
    "resultados_logistica = []\n",
    "resultados_forest = []\n",
    "for i in range(30):\n",
    "  X_treinamento, X_teste, y_treinamento, y_teste = train_test_split(X, y, test_size = 0.2,\n",
    "                                                                    stratify = y, random_state = i)\n",
    "  naive_bayes = GaussianNB()\n",
    "  naive_bayes.fit(X_treinamento, y_treinamento)\n",
    "  resultados_naive_bayes.append(accuracy_score(y_teste, naive_bayes.predict(X_teste)))\n",
    "\n",
    "  logistica = LogisticRegression()\n",
    "  logistica.fit(X_treinamento, y_treinamento)\n",
    "  resultados_logistica.append(accuracy_score(y_teste, logistica.predict(X_teste)))\n",
    "\n",
    "  random_forest = RandomForestClassifier()\n",
    "  random_forest.fit(X_treinamento, y_treinamento)\n",
    "  resultados_forest.append(accuracy_score(y_teste, random_forest.predict(X_teste)))"
   ]
  },
  {
   "cell_type": "code",
   "execution_count": null,
   "metadata": {
    "colab": {
     "base_uri": "https://localhost:8080/",
     "height": 55
    },
    "id": "9W1hLSxy1hbr",
    "outputId": "7bc6c1d4-8711-432d-d160-c84d78bb0fd2"
   },
   "outputs": [],
   "source": [
    "print(resultados_naive_bayes)"
   ]
  },
  {
   "cell_type": "code",
   "execution_count": null,
   "metadata": {
    "colab": {
     "base_uri": "https://localhost:8080/",
     "height": 55
    },
    "id": "T0cII_yB1r6M",
    "outputId": "dfddf986-e38c-4b9e-c625-04b9c901e3d7"
   },
   "outputs": [],
   "source": [
    "print(resultados_logistica)"
   ]
  },
  {
   "cell_type": "code",
   "execution_count": null,
   "metadata": {
    "colab": {
     "base_uri": "https://localhost:8080/",
     "height": 55
    },
    "id": "EdLwOmBG1uZI",
    "outputId": "49833a60-a34f-4014-cc74-05b4c5751697"
   },
   "outputs": [],
   "source": [
    "print(resultados_forest)"
   ]
  },
  {
   "cell_type": "code",
   "execution_count": null,
   "metadata": {
    "colab": {
     "base_uri": "https://localhost:8080/",
     "height": 55
    },
    "id": "C3Dzn2E92Wf_",
    "outputId": "af076c84-08d3-4022-bf6c-237ba556ea6a"
   },
   "outputs": [],
   "source": [
    "type(resultados_naive_bayes)"
   ]
  },
  {
   "cell_type": "code",
   "execution_count": null,
   "metadata": {
    "id": "oBma_2WJ2fdE"
   },
   "outputs": [],
   "source": [
    "resultados_naive_bayes = np.array(resultados_naive_bayes)\n",
    "resultados_logistica = np.array(resultados_logistica)\n",
    "resultados_forest = np.array(resultados_forest)"
   ]
  },
  {
   "cell_type": "code",
   "execution_count": null,
   "metadata": {
    "colab": {
     "base_uri": "https://localhost:8080/",
     "height": 55
    },
    "id": "uPGXYwiy2qE-",
    "outputId": "17c7d0c9-198e-4408-bcb4-39f6e6a88bb0"
   },
   "outputs": [],
   "source": [
    "type(resultados_naive_bayes)"
   ]
  },
  {
   "cell_type": "markdown",
   "metadata": {
    "id": "fQuRYRDP2CHj"
   },
   "source": [
    "### Média"
   ]
  },
  {
   "cell_type": "code",
   "execution_count": null,
   "metadata": {
    "colab": {
     "base_uri": "https://localhost:8080/",
     "height": 55
    },
    "id": "ZsyDNpP32tWt",
    "outputId": "cd3d887a-82a1-40b4-94cc-15664e3d6622"
   },
   "outputs": [],
   "source": [
    "resultados_naive_bayes.mean(), resultados_logistica.mean(), resultados_forest.mean()"
   ]
  },
  {
   "cell_type": "markdown",
   "metadata": {
    "id": "kCg0wERn2DZb"
   },
   "source": [
    "### Moda"
   ]
  },
  {
   "cell_type": "code",
   "execution_count": null,
   "metadata": {
    "id": "yLg-d5jT3PP6"
   },
   "outputs": [],
   "source": [
    "statistics.mode(resultados_naive_bayes)"
   ]
  },
  {
   "cell_type": "code",
   "execution_count": null,
   "metadata": {
    "colab": {
     "base_uri": "https://localhost:8080/",
     "height": 90
    },
    "id": "z0-YT7ka3bbL",
    "outputId": "64f22937-048d-41a9-dc59-c2bc4766e668"
   },
   "outputs": [],
   "source": [
    "stats.mode(resultados_naive_bayes), stats.mode(resultados_logistica), stats.mode(resultados_forest)"
   ]
  },
  {
   "cell_type": "markdown",
   "metadata": {
    "id": "iSqnFBWA2FEM"
   },
   "source": [
    "### Mediana"
   ]
  },
  {
   "cell_type": "code",
   "execution_count": null,
   "metadata": {
    "colab": {
     "base_uri": "https://localhost:8080/",
     "height": 55
    },
    "id": "XKoCUMPF361G",
    "outputId": "e7c2fb71-0acd-42ed-b4f5-4ff5546e7e91"
   },
   "outputs": [],
   "source": [
    "np.median(resultados_naive_bayes), np.median(resultados_logistica), np.median(resultados_forest)"
   ]
  },
  {
   "cell_type": "markdown",
   "metadata": {
    "id": "vkh8P6DG2GQJ"
   },
   "source": [
    "### Variância"
   ]
  },
  {
   "cell_type": "code",
   "execution_count": null,
   "metadata": {
    "colab": {
     "base_uri": "https://localhost:8080/",
     "height": 55
    },
    "id": "vmtrthlf4SFQ",
    "outputId": "4f66db96-4375-4869-d295-30ef8f9e9c0a"
   },
   "outputs": [],
   "source": [
    "np.set_printoptions(suppress=True)\n",
    "np.var(resultados_naive_bayes), np.var(resultados_logistica), np.var(resultados_forest)"
   ]
  },
  {
   "cell_type": "code",
   "execution_count": null,
   "metadata": {
    "colab": {
     "base_uri": "https://localhost:8080/",
     "height": 55
    },
    "id": "Pi3PxgWA4s1O",
    "outputId": "308a26f2-38a4-4c54-b03c-63a2095019bf"
   },
   "outputs": [],
   "source": [
    "np.min([8.756250000000001e-05, 0.00020933333333333337, 2.9229166666666637e-05])"
   ]
  },
  {
   "cell_type": "code",
   "execution_count": null,
   "metadata": {
    "colab": {
     "base_uri": "https://localhost:8080/",
     "height": 55
    },
    "id": "KFJJgeZJ5CZt",
    "outputId": "11406a69-96de-411b-d2bd-132ad3625e64"
   },
   "outputs": [],
   "source": [
    "np.max([8.756250000000001e-05, 0.00020933333333333337, 2.9229166666666637e-05])"
   ]
  },
  {
   "cell_type": "code",
   "execution_count": null,
   "metadata": {
    "colab": {
     "base_uri": "https://localhost:8080/",
     "height": 108
    },
    "id": "1IpABqi35YXZ",
    "outputId": "78731244-e443-44e5-9d80-5671b9355508"
   },
   "outputs": [],
   "source": [
    "resultados_forest"
   ]
  },
  {
   "cell_type": "markdown",
   "metadata": {
    "id": "t5vg3rkk2IBR"
   },
   "source": [
    "### Desvio padrão"
   ]
  },
  {
   "cell_type": "code",
   "execution_count": null,
   "metadata": {
    "colab": {
     "base_uri": "https://localhost:8080/",
     "height": 55
    },
    "id": "KGJVmSOK6MLQ",
    "outputId": "69f517e4-9032-4852-ce1e-b303e911e938"
   },
   "outputs": [],
   "source": [
    "np.std(resultados_naive_bayes), np.std(resultados_logistica), np.std(resultados_forest)"
   ]
  },
  {
   "cell_type": "markdown",
   "metadata": {
    "id": "DlyyyiSG2Jg2"
   },
   "source": [
    "### Coeficiente de variação"
   ]
  },
  {
   "cell_type": "code",
   "execution_count": null,
   "metadata": {
    "colab": {
     "base_uri": "https://localhost:8080/",
     "height": 55
    },
    "id": "whH5Yu906jk-",
    "outputId": "1598004f-c175-444d-9381-102bdecc0afc"
   },
   "outputs": [],
   "source": [
    "stats.variation(resultados_naive_bayes) * 100, stats.variation(resultados_logistica) * 100, stats.variation(resultados_forest) * 100"
   ]
  },
  {
   "cell_type": "markdown",
   "metadata": {
    "id": "eOncpyNh7Prs"
   },
   "source": [
    "### Exercício: validação cruzada"
   ]
  },
  {
   "cell_type": "code",
   "execution_count": null,
   "metadata": {
    "id": "H3hWn9-17Qb1"
   },
   "outputs": [],
   "source": [
    "from sklearn.model_selection import cross_val_score, KFold"
   ]
  },
  {
   "cell_type": "code",
   "execution_count": null,
   "metadata": {
    "id": "YnS9UAj67T8U"
   },
   "outputs": [],
   "source": [
    "resultados_naive_bayes_cv = []\n",
    "resultados_logistica_cv = []\n",
    "resultados_forest_cv = []\n",
    "for i in range(30):\n",
    "  kfold = KFold(n_splits = 10, shuffle = True, random_state = i)\n",
    "  \n",
    "  naive_bayes = GaussianNB()\n",
    "  scores = cross_val_score(naive_bayes, X, y, cv = kfold)\n",
    "  resultados_naive_bayes_cv.append(scores.mean())\n",
    "\n",
    "  logistica = LogisticRegression()\n",
    "  scores = cross_val_score(logistica, X, y, cv = kfold)\n",
    "  resultados_logistica_cv.append(scores.mean())\n",
    "  \n",
    "  random_forest = RandomForestClassifier()\n",
    "  scores = cross_val_score(random_forest, X, y, cv = kfold)\n",
    "  resultados_forest_cv.append(scores.mean())"
   ]
  },
  {
   "cell_type": "code",
   "execution_count": null,
   "metadata": {
    "colab": {
     "base_uri": "https://localhost:8080/",
     "height": 72
    },
    "id": "Bio40lGl7WCh",
    "outputId": "f4a664ea-4542-4df0-880f-6d42722d9590"
   },
   "outputs": [],
   "source": [
    "scores, 10 * 30"
   ]
  },
  {
   "cell_type": "code",
   "execution_count": null,
   "metadata": {
    "colab": {
     "base_uri": "https://localhost:8080/",
     "height": 55
    },
    "id": "NEo_S1BN7Xr-",
    "outputId": "17c0626f-1be9-40bc-829b-d9a3dc973930"
   },
   "outputs": [],
   "source": [
    "scores.mean()"
   ]
  },
  {
   "cell_type": "code",
   "execution_count": null,
   "metadata": {
    "colab": {
     "base_uri": "https://localhost:8080/",
     "height": 55
    },
    "id": "_UfB93za7ZP1",
    "outputId": "bc6b8191-21af-4490-ea78-ddaaacea8bba"
   },
   "outputs": [],
   "source": [
    "print(resultados_naive_bayes_cv)"
   ]
  },
  {
   "cell_type": "code",
   "execution_count": null,
   "metadata": {
    "colab": {
     "base_uri": "https://localhost:8080/",
     "height": 55
    },
    "id": "SstT0gGu7aqQ",
    "outputId": "811c5564-2fdc-4e1a-ddaa-621346762f37"
   },
   "outputs": [],
   "source": [
    "print(resultados_logistica_cv)"
   ]
  },
  {
   "cell_type": "code",
   "execution_count": null,
   "metadata": {
    "colab": {
     "base_uri": "https://localhost:8080/",
     "height": 55
    },
    "id": "D1ppw9Xk7cD-",
    "outputId": "bcc52196-9740-45c1-a5d4-5b6b00a752fe"
   },
   "outputs": [],
   "source": [
    "print(resultados_forest_cv)"
   ]
  },
  {
   "cell_type": "code",
   "execution_count": null,
   "metadata": {
    "colab": {
     "base_uri": "https://localhost:8080/",
     "height": 55
    },
    "id": "eoSoUaTC7eK6",
    "outputId": "f4eeb958-6cd7-46b2-8f88-0a596e4c14dd"
   },
   "outputs": [],
   "source": [
    "stats.variation(resultados_naive_bayes) * 100, stats.variation(resultados_logistica) * 100, stats.variation(resultados_forest) * 100"
   ]
  },
  {
   "cell_type": "code",
   "execution_count": null,
   "metadata": {
    "colab": {
     "base_uri": "https://localhost:8080/",
     "height": 55
    },
    "id": "RSPzHvj07gIY",
    "outputId": "f23cb01f-6509-4b56-ab1c-a84318d6a109"
   },
   "outputs": [],
   "source": [
    "stats.variation(resultados_naive_bayes_cv) * 100, stats.variation(resultados_logistica_cv) * 100, stats.variation(resultados_forest_cv) * 100"
   ]
  },
  {
   "cell_type": "markdown",
   "metadata": {
    "id": "1tKAIfl8Bzy2"
   },
   "source": [
    "### Seleção de atributos utilizando variância"
   ]
  },
  {
   "cell_type": "code",
   "execution_count": null,
   "metadata": {
    "colab": {
     "base_uri": "https://localhost:8080/",
     "height": 213
    },
    "id": "nN6Byt5IBy8N",
    "outputId": "69a6aae5-07ca-47fe-ef71-05bf526c676b"
   },
   "outputs": [],
   "source": [
    "np.random.rand(50)"
   ]
  },
  {
   "cell_type": "code",
   "execution_count": null,
   "metadata": {
    "colab": {
     "base_uri": "https://localhost:8080/",
     "height": 55
    },
    "id": "jexQeV90CPJV",
    "outputId": "4433a140-9d7a-4faa-ba04-e92c4f5e2af1"
   },
   "outputs": [],
   "source": [
    "np.random.randint(0, 2)"
   ]
  },
  {
   "cell_type": "code",
   "execution_count": null,
   "metadata": {
    "id": "NnB4w1NACVxD"
   },
   "outputs": [],
   "source": [
    "base_selecao = {'a': np.random.rand(20),\n",
    "                'b': np.array([0.5] * 20),\n",
    "                'classe': np.random.randint(0, 2, size = 20)}"
   ]
  },
  {
   "cell_type": "code",
   "execution_count": null,
   "metadata": {
    "colab": {
     "base_uri": "https://localhost:8080/",
     "height": 160
    },
    "id": "9_Z72m3XCk3U",
    "outputId": "ebf304dd-0f9a-433a-9617-7581069f2f1a"
   },
   "outputs": [],
   "source": [
    "base_selecao"
   ]
  },
  {
   "cell_type": "code",
   "execution_count": null,
   "metadata": {
    "colab": {
     "base_uri": "https://localhost:8080/",
     "height": 228
    },
    "id": "Jzoiu9_SDAD_",
    "outputId": "92f8f42e-119b-4b38-918f-30a10712f495"
   },
   "outputs": [],
   "source": [
    "dataset = pd.DataFrame(base_selecao)\n",
    "dataset.head()"
   ]
  },
  {
   "cell_type": "code",
   "execution_count": null,
   "metadata": {
    "colab": {
     "base_uri": "https://localhost:8080/",
     "height": 323
    },
    "id": "6359-vT6DJyT",
    "outputId": "be9565b6-6666-475f-9090-9042a4dd2aaa"
   },
   "outputs": [],
   "source": [
    "dataset.describe()"
   ]
  },
  {
   "cell_type": "code",
   "execution_count": null,
   "metadata": {
    "colab": {
     "base_uri": "https://localhost:8080/",
     "height": 55
    },
    "id": "vCAxk5YJDkUZ",
    "outputId": "133a924e-aca5-4324-8f85-76d7db69d636"
   },
   "outputs": [],
   "source": [
    "math.sqrt(0.08505323963215053)"
   ]
  },
  {
   "cell_type": "code",
   "execution_count": null,
   "metadata": {
    "colab": {
     "base_uri": "https://localhost:8080/",
     "height": 55
    },
    "id": "pFcLNoUPDdrC",
    "outputId": "b7d4cc7b-602e-4362-a25d-5f5a8e32535d"
   },
   "outputs": [],
   "source": [
    "np.var(dataset['a']), np.var(dataset['b'])"
   ]
  },
  {
   "cell_type": "code",
   "execution_count": null,
   "metadata": {
    "colab": {
     "base_uri": "https://localhost:8080/",
     "height": 389
    },
    "id": "lCP0UKB6DsP_",
    "outputId": "5b258bf5-23a2-45fe-f8ef-eaf1ced2ac7a"
   },
   "outputs": [],
   "source": [
    "X = dataset.iloc[:, 0:2].values\n",
    "X"
   ]
  },
  {
   "cell_type": "code",
   "execution_count": null,
   "metadata": {
    "id": "3zR5zZJTD4Ua"
   },
   "outputs": [],
   "source": [
    "from sklearn.feature_selection import VarianceThreshold"
   ]
  },
  {
   "cell_type": "code",
   "execution_count": null,
   "metadata": {
    "id": "oQSpnXg4D-80"
   },
   "outputs": [],
   "source": [
    "selecao = VarianceThreshold(threshold=0.07)\n",
    "X_novo = selecao.fit_transform(X)"
   ]
  },
  {
   "cell_type": "code",
   "execution_count": null,
   "metadata": {
    "colab": {
     "base_uri": "https://localhost:8080/",
     "height": 389
    },
    "id": "7j2Gbt9dEe3N",
    "outputId": "08f3527c-a636-4bd3-a59f-86210cfc6583"
   },
   "outputs": [],
   "source": [
    "X_novo, X_novo.shape"
   ]
  },
  {
   "cell_type": "code",
   "execution_count": null,
   "metadata": {
    "colab": {
     "base_uri": "https://localhost:8080/",
     "height": 55
    },
    "id": "12UD3-BZEogI",
    "outputId": "c462f040-a847-4dca-f6a4-cf74103f6d17"
   },
   "outputs": [],
   "source": [
    "selecao.variances_"
   ]
  },
  {
   "cell_type": "code",
   "execution_count": null,
   "metadata": {
    "colab": {
     "base_uri": "https://localhost:8080/",
     "height": 55
    },
    "id": "6OitxuabEtKh",
    "outputId": "a26e604b-8f25-47ec-e565-5c4e351eb4b2"
   },
   "outputs": [],
   "source": [
    "indices = np.where(selecao.variances_ > 0.07)\n",
    "indices"
   ]
  },
  {
   "cell_type": "markdown",
   "metadata": {
    "id": "ahBg3cQTGDiE"
   },
   "source": [
    "#### Exercício seleção de atributos utilizando variância"
   ]
  },
  {
   "cell_type": "code",
   "execution_count": null,
   "metadata": {
    "id": "JkX0LRiIGEOc"
   },
   "outputs": [],
   "source": [
    "dataset = pd.read_csv('credit_data.csv')"
   ]
  },
  {
   "cell_type": "code",
   "execution_count": null,
   "metadata": {
    "id": "VoPqzVgkGHR1"
   },
   "outputs": [],
   "source": [
    "dataset.dropna(inplace=True)"
   ]
  },
  {
   "cell_type": "code",
   "execution_count": null,
   "metadata": {
    "colab": {
     "base_uri": "https://localhost:8080/",
     "height": 228
    },
    "id": "eQPJ9mNDGJG7",
    "outputId": "3403e22d-eeb7-45cb-f0bf-bf4d187c1c48"
   },
   "outputs": [],
   "source": [
    "dataset.head()"
   ]
  },
  {
   "cell_type": "code",
   "execution_count": null,
   "metadata": {
    "colab": {
     "base_uri": "https://localhost:8080/",
     "height": 323
    },
    "id": "ZKMV2lI6GLAG",
    "outputId": "6613bd20-fa14-4273-e13a-6e1cd8d4c21b"
   },
   "outputs": [],
   "source": [
    "dataset.describe()"
   ]
  },
  {
   "cell_type": "code",
   "execution_count": null,
   "metadata": {
    "colab": {
     "base_uri": "https://localhost:8080/",
     "height": 160
    },
    "id": "oh2hMqgtGM7O",
    "outputId": "4b1285da-c4ce-4049-d2f9-c6913a6681fd"
   },
   "outputs": [],
   "source": [
    "X = dataset.iloc[:, 1:4].values\n",
    "X"
   ]
  },
  {
   "cell_type": "code",
   "execution_count": null,
   "metadata": {
    "colab": {
     "base_uri": "https://localhost:8080/",
     "height": 55
    },
    "id": "35mB72FrGOwX",
    "outputId": "baa87938-5c59-46a9-b0ec-4a8b64445883"
   },
   "outputs": [],
   "source": [
    "y = dataset.iloc[:, 4].values\n",
    "y"
   ]
  },
  {
   "cell_type": "code",
   "execution_count": null,
   "metadata": {
    "id": "mGKHxX8HGRq4"
   },
   "outputs": [],
   "source": [
    "from sklearn.preprocessing import MinMaxScaler\n",
    "scaler = MinMaxScaler()\n",
    "X = scaler.fit_transform(X)"
   ]
  },
  {
   "cell_type": "code",
   "execution_count": null,
   "metadata": {
    "colab": {
     "base_uri": "https://localhost:8080/",
     "height": 160
    },
    "id": "mOQPZZakGSpi",
    "outputId": "ccd4060d-3da4-4106-9efb-935e1f016e35"
   },
   "outputs": [],
   "source": [
    "X"
   ]
  },
  {
   "cell_type": "code",
   "execution_count": null,
   "metadata": {
    "id": "kfVY3zmmGUuC"
   },
   "outputs": [],
   "source": [
    "selecao = VarianceThreshold(threshold=0.027)\n",
    "X_novo = selecao.fit_transform(X)"
   ]
  },
  {
   "cell_type": "code",
   "execution_count": null,
   "metadata": {
    "colab": {
     "base_uri": "https://localhost:8080/",
     "height": 160
    },
    "id": "64AXRXbsGXc9",
    "outputId": "ee93841b-bbb0-4789-96d4-bb0af1f897ab"
   },
   "outputs": [],
   "source": [
    "X_novo"
   ]
  },
  {
   "cell_type": "code",
   "execution_count": null,
   "metadata": {
    "colab": {
     "base_uri": "https://localhost:8080/",
     "height": 55
    },
    "id": "N7Av6hEcGZRk",
    "outputId": "e11a9b5a-7ffa-4937-a441-4b4e56e5c376"
   },
   "outputs": [],
   "source": [
    "np.var(X[0]), np.var(X[1]), np.var(X[2])"
   ]
  },
  {
   "cell_type": "code",
   "execution_count": null,
   "metadata": {
    "colab": {
     "base_uri": "https://localhost:8080/",
     "height": 55
    },
    "id": "5Eufsm-fGa3u",
    "outputId": "10838cb4-96dc-4fc4-e80e-4e00d8bcabba"
   },
   "outputs": [],
   "source": [
    "from sklearn.naive_bayes import GaussianNB\n",
    "from sklearn.metrics import accuracy_score\n",
    "naive_sem_selecao = GaussianNB()\n",
    "naive_sem_selecao.fit(X, y)\n",
    "previsoes = naive_sem_selecao.predict(X)\n",
    "accuracy_score(previsoes, y)"
   ]
  },
  {
   "cell_type": "code",
   "execution_count": null,
   "metadata": {
    "colab": {
     "base_uri": "https://localhost:8080/",
     "height": 55
    },
    "id": "RArMja4gGcZ3",
    "outputId": "4395742a-1d2e-4c94-8731-83a8e812dcd4"
   },
   "outputs": [],
   "source": [
    "naive_com_selecao = GaussianNB()\n",
    "naive_com_selecao.fit(X_novo, y)\n",
    "previsoes = naive_com_selecao.predict(X_novo)\n",
    "accuracy_score(previsoes, y)"
   ]
  },
  {
   "cell_type": "markdown",
   "metadata": {
    "id": "FucWtM1UINBt"
   },
   "source": [
    "## Valores faltantes com média e moda"
   ]
  },
  {
   "cell_type": "markdown",
   "metadata": {
    "id": "q1UvdIgOMkzs"
   },
   "source": [
    "### Média"
   ]
  },
  {
   "cell_type": "code",
   "execution_count": null,
   "metadata": {
    "id": "Fghxs5ElRQy-"
   },
   "outputs": [],
   "source": [
    "import pandas as pd\n",
    "dataset = pd.read_csv('credit_data.csv')"
   ]
  },
  {
   "cell_type": "code",
   "execution_count": null,
   "metadata": {
    "colab": {
     "base_uri": "https://localhost:8080/",
     "height": 143
    },
    "id": "ewwh0g-wSYXZ",
    "outputId": "6986acc8-008b-4d66-ac88-6c5987057e81"
   },
   "outputs": [],
   "source": [
    "dataset.isnull().sum()"
   ]
  },
  {
   "cell_type": "code",
   "execution_count": null,
   "metadata": {
    "colab": {
     "base_uri": "https://localhost:8080/",
     "height": 164
    },
    "id": "WXYTEDYcShUn",
    "outputId": "eae808da-e64f-48fc-b60b-007b6df6b598"
   },
   "outputs": [],
   "source": [
    "nulos = dataset[dataset.isnull().any(axis=1)]\n",
    "nulos"
   ]
  },
  {
   "cell_type": "code",
   "execution_count": null,
   "metadata": {
    "colab": {
     "base_uri": "https://localhost:8080/",
     "height": 55
    },
    "id": "03QOQyIbSyHG",
    "outputId": "f13941a6-4f16-4ff8-a7b5-8fd2dbfc1e9f"
   },
   "outputs": [],
   "source": [
    "dataset['age'].mean(), dataset['age'].median()"
   ]
  },
  {
   "cell_type": "code",
   "execution_count": null,
   "metadata": {
    "id": "uhT8A3s7TLkO"
   },
   "outputs": [],
   "source": [
    "dataset['age'] = dataset['age'].replace(to_replace = np.nan, value = dataset['age'].mean())"
   ]
  },
  {
   "cell_type": "code",
   "execution_count": null,
   "metadata": {
    "colab": {
     "base_uri": "https://localhost:8080/",
     "height": 69
    },
    "id": "QWOy3G2hTZyN",
    "outputId": "9eca88e0-8304-4217-d867-e7b79e8993d3"
   },
   "outputs": [],
   "source": [
    "dataset[dataset.isnull().any(axis=1)]"
   ]
  },
  {
   "cell_type": "markdown",
   "metadata": {
    "id": "iiI50BpDMnEg"
   },
   "source": [
    "### Moda"
   ]
  },
  {
   "cell_type": "code",
   "execution_count": null,
   "metadata": {
    "id": "zJh4xMKdRRSZ"
   },
   "outputs": [],
   "source": [
    "dataset = pd.read_csv('autos.csv', encoding='ISO-8859-1')"
   ]
  },
  {
   "cell_type": "code",
   "execution_count": null,
   "metadata": {
    "colab": {
     "base_uri": "https://localhost:8080/",
     "height": 404
    },
    "id": "bWntwbTfTsUx",
    "outputId": "a1d09e18-5d18-4335-dd9d-6f9d26e66149"
   },
   "outputs": [],
   "source": [
    "dataset.head()"
   ]
  },
  {
   "cell_type": "code",
   "execution_count": null,
   "metadata": {
    "colab": {
     "base_uri": "https://localhost:8080/",
     "height": 407
    },
    "id": "vsa8_228T6Lk",
    "outputId": "51ab53de-c580-4f21-d5b1-a5027325afcc"
   },
   "outputs": [],
   "source": [
    "dataset.isnull().sum()"
   ]
  },
  {
   "cell_type": "code",
   "execution_count": null,
   "metadata": {
    "colab": {
     "base_uri": "https://localhost:8080/",
     "height": 72
    },
    "id": "O1zfnEqyUH9y",
    "outputId": "24b938a6-925b-44ee-eb01-db748174a649"
   },
   "outputs": [],
   "source": [
    "dataset['fuelType'].unique()"
   ]
  },
  {
   "cell_type": "code",
   "execution_count": null,
   "metadata": {
    "colab": {
     "base_uri": "https://localhost:8080/",
     "height": 55
    },
    "id": "94oWsxg_UVzd",
    "outputId": "22e46d94-e28f-47e1-8c8b-ab5ea6051f84"
   },
   "outputs": [],
   "source": [
    "stats.mode(dataset['fuelType'])"
   ]
  },
  {
   "cell_type": "code",
   "execution_count": null,
   "metadata": {
    "colab": {
     "base_uri": "https://localhost:8080/",
     "height": 57
    },
    "id": "-zb48XClUb4d",
    "outputId": "9f40362c-67f3-4026-9450-9bef5ed6327a"
   },
   "outputs": [],
   "source": [
    "statistics.mode(dataset['fuelType'])"
   ]
  },
  {
   "cell_type": "code",
   "execution_count": null,
   "metadata": {
    "id": "iPdkclRQUi6g"
   },
   "outputs": [],
   "source": [
    "dataset['fuelType'] = dataset['fuelType'].replace(to_replace = np.nan, value = statistics.mode(dataset['fuelType']))"
   ]
  },
  {
   "cell_type": "code",
   "execution_count": null,
   "metadata": {
    "colab": {
     "base_uri": "https://localhost:8080/",
     "height": 72
    },
    "id": "WQqn4od_Uv16",
    "outputId": "defb1a79-d8b9-4b1f-a2cc-42128e7c2271"
   },
   "outputs": [],
   "source": [
    "dataset['fuelType'].unique()"
   ]
  }
 ],
 "metadata": {
  "colab": {
   "collapsed_sections": [
    "04mBFjDuptL7",
    "hkq_zae75joP",
    "BNb_PbIM5kk-",
    "sHVY0OeLEhk5"
   ],
   "name": "Medidas de posição e dispersão.ipynb",
   "provenance": []
  },
  "kernelspec": {
   "display_name": "Python 3 (ipykernel)",
   "language": "python",
   "name": "python3"
  },
  "language_info": {
   "codemirror_mode": {
    "name": "ipython",
    "version": 3
   },
   "file_extension": ".py",
   "mimetype": "text/x-python",
   "name": "python",
   "nbconvert_exporter": "python",
   "pygments_lexer": "ipython3",
   "version": "3.8.10"
  }
 },
 "nbformat": 4,
 "nbformat_minor": 1
}
